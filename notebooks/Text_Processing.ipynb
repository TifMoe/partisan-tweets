{
 "cells": [
  {
   "cell_type": "markdown",
   "metadata": {},
   "source": [
    "# Text Processing with spaCy"
   ]
  },
  {
   "cell_type": "code",
   "execution_count": 444,
   "metadata": {
    "collapsed": true
   },
   "outputs": [],
   "source": [
    "import gzip\n",
    "import pickle\n",
    "import numpy as np\n",
    "from configparser import ConfigParser\n",
    "from pymongo import MongoClient\n",
    "from pprint import pprint\n",
    "import pandas as pd\n",
    "import re\n",
    "import string\n",
    "punctuations = string.punctuation\n",
    "import warnings\n",
    "\n",
    "# spaCy\n",
    "with warnings.catch_warnings():\n",
    "    warnings.filterwarnings(\"ignore\", category=DeprecationWarning)\n",
    "    import spacy\n",
    "    nlp = spacy.load('en')\n",
    "\n",
    "# gensim\n",
    "from gensim import corpora, models, similarities, matutils\n",
    "\n",
    "# sklearn\n",
    "from sklearn.feature_extraction.text import CountVectorizer, TfidfVectorizer\n",
    "from sklearn.decomposition import TruncatedSVD, PCA\n",
    "\n",
    "from sklearn.cluster import KMeans\n",
    "from sklearn.feature_extraction.stop_words import ENGLISH_STOP_WORDS as stopwords \n",
    "from sklearn.preprocessing import Normalizer\n",
    "\n",
    "# logging for gensim (set to INFO)\n",
    "#import logging\n",
    "#logging.basicConfig(format='%(asctime)s : %(levelname)s : %(message)s', level=logging.INFO)"
   ]
  },
  {
   "cell_type": "markdown",
   "metadata": {},
   "source": [
    "## Read in tweet data from Mongodb"
   ]
  },
  {
   "cell_type": "code",
   "execution_count": 222,
   "metadata": {},
   "outputs": [],
   "source": [
    "config = ConfigParser()\n",
    "config.read('../config.ini')\n",
    "\n",
    "client = MongoClient(\"mongodb://{}:{}@{}/{}\".format(\n",
    "                        config.get('MongoConfig', 'user'),\n",
    "                        config.get('MongoConfig', 'password'),\n",
    "                        config.get('MongoConfig', 'host'),\n",
    "                        config.get('MongoConfig', 'db')\n",
    "                        ), int(config.get('MongoConfig', 'port')))"
   ]
  },
  {
   "cell_type": "code",
   "execution_count": 223,
   "metadata": {},
   "outputs": [],
   "source": [
    "db = client.twitter_db"
   ]
  },
  {
   "cell_type": "code",
   "execution_count": 224,
   "metadata": {},
   "outputs": [
    {
     "data": {
      "text/plain": [
       "['Init', 'tweets', 'favorited_tweets']"
      ]
     },
     "execution_count": 224,
     "metadata": {},
     "output_type": "execute_result"
    }
   ],
   "source": [
    "db.collection_names()"
   ]
  },
  {
   "cell_type": "code",
   "execution_count": 225,
   "metadata": {},
   "outputs": [
    {
     "data": {
      "text/plain": [
       "1113805"
      ]
     },
     "execution_count": 225,
     "metadata": {},
     "output_type": "execute_result"
    }
   ],
   "source": [
    "db.favorited_tweets.count()"
   ]
  },
  {
   "cell_type": "code",
   "execution_count": 234,
   "metadata": {},
   "outputs": [],
   "source": [
    "cursor = db.favorited_tweets.find({}).limit(10000)"
   ]
  },
  {
   "cell_type": "code",
   "execution_count": 235,
   "metadata": {},
   "outputs": [],
   "source": [
    "tweet_data = [document  for document in cursor]"
   ]
  },
  {
   "cell_type": "code",
   "execution_count": 236,
   "metadata": {},
   "outputs": [
    {
     "data": {
      "text/plain": [
       "[\"100% correct. Congress must still act. This Administration will end DACA and has the authority to do so -- it just didn't do it legally. Yet. https://t.co/HxiDhioeMY\",\n",
       " '#DACA renewals continue. Sessions &amp; DOJ overreached to skip Courts of Appeal. Congress must still act. #CleanDreamActNow #DreamActNow #Dreamers https://t.co/jUrwbqNU6p',\n",
       " 'More courageous young people leading! #DreamActNow #CleanDreamAct https://t.co/WT0OuZbOVR',\n",
       " \"Philando Castile's mom slams NRA chief LaPierre as a hypocrite - NY Daily News https://t.co/RLpLAw4VzX\",\n",
       " 'From one of the teen activists from #Parkland #BanAssaultWeapons #BoycottNRA https://t.co/RjnUwmCypF',\n",
       " '&lt;em&gt;Black Panther&lt;/em&gt; Actor Bambadjan Bamba Is a Dreamer https://t.co/r3CFWoVAAR\\n#DreamActNow',\n",
       " 'As an immigration attorney for 20 years - let\\'s be clear: Melania\\'s parents got greencards through Melania\\'s family petition once she became US Citizen. Pres Trump\\'s proposals and critique of \"chain migration\" would close the door on his parents-in-law. https://t.co/6JHjfGuciD',\n",
       " '#NoShame https://t.co/GxwdYHlat6',\n",
       " '@Delta Thank  you @Delta\\n#BoycottNRA',\n",
       " 'This https://t.co/127bygECZm']"
      ]
     },
     "execution_count": 236,
     "metadata": {},
     "output_type": "execute_result"
    }
   ],
   "source": [
    "rawtext = [tweet['full_text'] for tweet in tweet_data]\n",
    "\n",
    "rawtext[:10]"
   ]
  },
  {
   "cell_type": "markdown",
   "metadata": {},
   "source": [
    "## Normalize Text"
   ]
  },
  {
   "cell_type": "markdown",
   "metadata": {},
   "source": [
    "#### Clean, Tokenize and Vectorize (maybe Stem, Lemmatize)"
   ]
  },
  {
   "cell_type": "code",
   "execution_count": 348,
   "metadata": {},
   "outputs": [],
   "source": [
    "def clean_tweet(tweet):\n",
    "    \"\"\"\n",
    "    Function to remove urls, numbers and punctuation, and make lowercase\n",
    "    \"\"\"\n",
    "    no_url = re.sub(r'http\\S+', '', tweet)\n",
    "    clean = re.sub(r'[^\\w\\s]', '', no_url)\n",
    "    \n",
    "    result = ''.join([str(i).replace('\\n', ' ').lower() for i in clean if not i.isdigit()])\n",
    "\n",
    "    return result"
   ]
  },
  {
   "cell_type": "code",
   "execution_count": 349,
   "metadata": {},
   "outputs": [
    {
     "name": "stdout",
     "output_type": "stream",
     "text": [
      "#DACA renewals continue. Sessions &amp; DOJ overreached to skip Courts of Appeal. Congress must still act. #CleanDreamActNow #DreamActNow #Dreamers https://t.co/jUrwbqNU6p \n",
      "\n",
      "daca renewals continue sessions amp doj overreached to skip courts of appeal congress must still act cleandreamactnow dreamactnow dreamers \n"
     ]
    }
   ],
   "source": [
    "cleantext = [clean_tweet(i) for i in rawtext]\n",
    "print(rawtext[1], '\\n')\n",
    "print(cleantext[1])"
   ]
  },
  {
   "cell_type": "code",
   "execution_count": 417,
   "metadata": {},
   "outputs": [],
   "source": [
    "def spacy_tokenizer(tweet):\n",
    "    \"\"\"\n",
    "    Utility function to remove stopwords, ignore pronouns and tokenize words before vectorizing\n",
    "    \"\"\"\n",
    "    doc = nlp(tweet)\n",
    "    tokens = [token.orth_ for token in doc if \n",
    "              (token.orth_ not in stopwords and token.pos_ in ['NOUN', 'PROPN', 'VERB', 'ADJ'])]\n",
    "            \n",
    "    return tokens"
   ]
  },
  {
   "cell_type": "code",
   "execution_count": 419,
   "metadata": {},
   "outputs": [
    {
     "name": "stdout",
     "output_type": "stream",
     "text": [
      " correct congress must still act this administration will end daca and has the authority to do so  it just didnt do it legally yet \n"
     ]
    },
    {
     "data": {
      "text/plain": [
       "['correct',\n",
       " 'congress',\n",
       " 'act',\n",
       " 'administration',\n",
       " 'end',\n",
       " 'daca',\n",
       " 'authority',\n",
       " 'did']"
      ]
     },
     "execution_count": 419,
     "metadata": {},
     "output_type": "execute_result"
    }
   ],
   "source": [
    "print(cleantext[0])\n",
    "\n",
    "tokens_test = spacy_tokenizer(cleantext[0])\n",
    "tokens_test"
   ]
  },
  {
   "cell_type": "code",
   "execution_count": 399,
   "metadata": {},
   "outputs": [],
   "source": [
    "#create vectorizer object to generate feature vectors, we will use custom spacy’s tokenizer\n",
    "vectorizer = TfidfVectorizer(tokenizer = spacy_tokenizer, \n",
    "                             ngram_range=(1,1))"
   ]
  },
  {
   "cell_type": "code",
   "execution_count": 400,
   "metadata": {},
   "outputs": [
    {
     "data": {
      "text/plain": [
       "TfidfVectorizer(analyzer='word', binary=False, decode_error='strict',\n",
       "        dtype=<class 'numpy.int64'>, encoding='utf-8', input='content',\n",
       "        lowercase=True, max_df=1.0, max_features=None, min_df=1,\n",
       "        ngram_range=(1, 1), norm='l2', preprocessor=None, smooth_idf=True,\n",
       "        stop_words=None, strip_accents=None, sublinear_tf=False,\n",
       "        token_pattern='(?u)\\\\b\\\\w\\\\w+\\\\b',\n",
       "        tokenizer=<function spacy_tokenizer at 0x11fe446a8>, use_idf=True,\n",
       "        vocabulary=None)"
      ]
     },
     "execution_count": 400,
     "metadata": {},
     "output_type": "execute_result"
    }
   ],
   "source": [
    "vectorizer.fit(cleantext)"
   ]
  },
  {
   "cell_type": "code",
   "execution_count": 401,
   "metadata": {},
   "outputs": [],
   "source": [
    "counts = vectorizer.transform(cleantext).transpose()"
   ]
  },
  {
   "cell_type": "code",
   "execution_count": 402,
   "metadata": {},
   "outputs": [
    {
     "data": {
      "text/plain": [
       "(15661, 10000)"
      ]
     },
     "execution_count": 402,
     "metadata": {},
     "output_type": "execute_result"
    }
   ],
   "source": [
    "np.shape(counts)"
   ]
  },
  {
   "cell_type": "code",
   "execution_count": 403,
   "metadata": {},
   "outputs": [
    {
     "data": {
      "text/html": [
       "<div>\n",
       "<style>\n",
       "    .dataframe thead tr:only-child th {\n",
       "        text-align: right;\n",
       "    }\n",
       "\n",
       "    .dataframe thead th {\n",
       "        text-align: left;\n",
       "    }\n",
       "\n",
       "    .dataframe tbody tr th {\n",
       "        vertical-align: top;\n",
       "    }\n",
       "</style>\n",
       "<table border=\"1\" class=\"dataframe\">\n",
       "  <thead>\n",
       "    <tr style=\"text-align: right;\">\n",
       "      <th></th>\n",
       "      <th>0</th>\n",
       "      <th>1</th>\n",
       "      <th>2</th>\n",
       "      <th>3</th>\n",
       "      <th>4</th>\n",
       "      <th>5</th>\n",
       "      <th>6</th>\n",
       "      <th>7</th>\n",
       "      <th>8</th>\n",
       "      <th>9</th>\n",
       "      <th>...</th>\n",
       "      <th>9990</th>\n",
       "      <th>9991</th>\n",
       "      <th>9992</th>\n",
       "      <th>9993</th>\n",
       "      <th>9994</th>\n",
       "      <th>9995</th>\n",
       "      <th>9996</th>\n",
       "      <th>9997</th>\n",
       "      <th>9998</th>\n",
       "      <th>9999</th>\n",
       "    </tr>\n",
       "  </thead>\n",
       "  <tbody>\n",
       "    <tr>\n",
       "      <th>_</th>\n",
       "      <td>0.0</td>\n",
       "      <td>0.0</td>\n",
       "      <td>0.0</td>\n",
       "      <td>0.0</td>\n",
       "      <td>0.0</td>\n",
       "      <td>0.0</td>\n",
       "      <td>0.0</td>\n",
       "      <td>0.0</td>\n",
       "      <td>0.0</td>\n",
       "      <td>0.0</td>\n",
       "      <td>...</td>\n",
       "      <td>0.0</td>\n",
       "      <td>0.0</td>\n",
       "      <td>0.0</td>\n",
       "      <td>0.0</td>\n",
       "      <td>0.0</td>\n",
       "      <td>0.0</td>\n",
       "      <td>0.0</td>\n",
       "      <td>0.0</td>\n",
       "      <td>0.0</td>\n",
       "      <td>0.0</td>\n",
       "    </tr>\n",
       "    <tr>\n",
       "      <th>a_clay_cahoon</th>\n",
       "      <td>0.0</td>\n",
       "      <td>0.0</td>\n",
       "      <td>0.0</td>\n",
       "      <td>0.0</td>\n",
       "      <td>0.0</td>\n",
       "      <td>0.0</td>\n",
       "      <td>0.0</td>\n",
       "      <td>0.0</td>\n",
       "      <td>0.0</td>\n",
       "      <td>0.0</td>\n",
       "      <td>...</td>\n",
       "      <td>0.0</td>\n",
       "      <td>0.0</td>\n",
       "      <td>0.0</td>\n",
       "      <td>0.0</td>\n",
       "      <td>0.0</td>\n",
       "      <td>0.0</td>\n",
       "      <td>0.0</td>\n",
       "      <td>0.0</td>\n",
       "      <td>0.0</td>\n",
       "      <td>0.0</td>\n",
       "    </tr>\n",
       "    <tr>\n",
       "      <th>aaa</th>\n",
       "      <td>0.0</td>\n",
       "      <td>0.0</td>\n",
       "      <td>0.0</td>\n",
       "      <td>0.0</td>\n",
       "      <td>0.0</td>\n",
       "      <td>0.0</td>\n",
       "      <td>0.0</td>\n",
       "      <td>0.0</td>\n",
       "      <td>0.0</td>\n",
       "      <td>0.0</td>\n",
       "      <td>...</td>\n",
       "      <td>0.0</td>\n",
       "      <td>0.0</td>\n",
       "      <td>0.0</td>\n",
       "      <td>0.0</td>\n",
       "      <td>0.0</td>\n",
       "      <td>0.0</td>\n",
       "      <td>0.0</td>\n",
       "      <td>0.0</td>\n",
       "      <td>0.0</td>\n",
       "      <td>0.0</td>\n",
       "    </tr>\n",
       "    <tr>\n",
       "      <th>aapi</th>\n",
       "      <td>0.0</td>\n",
       "      <td>0.0</td>\n",
       "      <td>0.0</td>\n",
       "      <td>0.0</td>\n",
       "      <td>0.0</td>\n",
       "      <td>0.0</td>\n",
       "      <td>0.0</td>\n",
       "      <td>0.0</td>\n",
       "      <td>0.0</td>\n",
       "      <td>0.0</td>\n",
       "      <td>...</td>\n",
       "      <td>0.0</td>\n",
       "      <td>0.0</td>\n",
       "      <td>0.0</td>\n",
       "      <td>0.0</td>\n",
       "      <td>0.0</td>\n",
       "      <td>0.0</td>\n",
       "      <td>0.0</td>\n",
       "      <td>0.0</td>\n",
       "      <td>0.0</td>\n",
       "      <td>0.0</td>\n",
       "    </tr>\n",
       "    <tr>\n",
       "      <th>aapiequalpay</th>\n",
       "      <td>0.0</td>\n",
       "      <td>0.0</td>\n",
       "      <td>0.0</td>\n",
       "      <td>0.0</td>\n",
       "      <td>0.0</td>\n",
       "      <td>0.0</td>\n",
       "      <td>0.0</td>\n",
       "      <td>0.0</td>\n",
       "      <td>0.0</td>\n",
       "      <td>0.0</td>\n",
       "      <td>...</td>\n",
       "      <td>0.0</td>\n",
       "      <td>0.0</td>\n",
       "      <td>0.0</td>\n",
       "      <td>0.0</td>\n",
       "      <td>0.0</td>\n",
       "      <td>0.0</td>\n",
       "      <td>0.0</td>\n",
       "      <td>0.0</td>\n",
       "      <td>0.0</td>\n",
       "      <td>0.0</td>\n",
       "    </tr>\n",
       "  </tbody>\n",
       "</table>\n",
       "<p>5 rows × 10000 columns</p>\n",
       "</div>"
      ],
      "text/plain": [
       "               0     1     2     3     4     5     6     7     8     9     \\\n",
       "_               0.0   0.0   0.0   0.0   0.0   0.0   0.0   0.0   0.0   0.0   \n",
       "a_clay_cahoon   0.0   0.0   0.0   0.0   0.0   0.0   0.0   0.0   0.0   0.0   \n",
       "aaa             0.0   0.0   0.0   0.0   0.0   0.0   0.0   0.0   0.0   0.0   \n",
       "aapi            0.0   0.0   0.0   0.0   0.0   0.0   0.0   0.0   0.0   0.0   \n",
       "aapiequalpay    0.0   0.0   0.0   0.0   0.0   0.0   0.0   0.0   0.0   0.0   \n",
       "\n",
       "               ...   9990  9991  9992  9993  9994  9995  9996  9997  9998  \\\n",
       "_              ...    0.0   0.0   0.0   0.0   0.0   0.0   0.0   0.0   0.0   \n",
       "a_clay_cahoon  ...    0.0   0.0   0.0   0.0   0.0   0.0   0.0   0.0   0.0   \n",
       "aaa            ...    0.0   0.0   0.0   0.0   0.0   0.0   0.0   0.0   0.0   \n",
       "aapi           ...    0.0   0.0   0.0   0.0   0.0   0.0   0.0   0.0   0.0   \n",
       "aapiequalpay   ...    0.0   0.0   0.0   0.0   0.0   0.0   0.0   0.0   0.0   \n",
       "\n",
       "               9999  \n",
       "_               0.0  \n",
       "a_clay_cahoon   0.0  \n",
       "aaa             0.0  \n",
       "aapi            0.0  \n",
       "aapiequalpay    0.0  \n",
       "\n",
       "[5 rows x 10000 columns]"
      ]
     },
     "execution_count": 403,
     "metadata": {},
     "output_type": "execute_result"
    }
   ],
   "source": [
    "pd.DataFrame(counts.toarray(), vectorizer.get_feature_names()).head()"
   ]
  },
  {
   "cell_type": "code",
   "execution_count": 404,
   "metadata": {},
   "outputs": [],
   "source": [
    "corpus = matutils.Sparse2Corpus(counts)"
   ]
  },
  {
   "cell_type": "code",
   "execution_count": 405,
   "metadata": {},
   "outputs": [],
   "source": [
    "id2word = dict((v, k) for k, v in vectorizer.vocabulary_.items())"
   ]
  },
  {
   "cell_type": "code",
   "execution_count": 406,
   "metadata": {},
   "outputs": [
    {
     "data": {
      "text/plain": [
       "15661"
      ]
     },
     "execution_count": 406,
     "metadata": {},
     "output_type": "execute_result"
    }
   ],
   "source": [
    "len(id2word)"
   ]
  },
  {
   "cell_type": "code",
   "execution_count": 407,
   "metadata": {},
   "outputs": [],
   "source": [
    "with open('../data/processed/word_features.pkl', 'wb') as wf:\n",
    "    pickle.dump(id2word, wf)"
   ]
  },
  {
   "cell_type": "markdown",
   "metadata": {},
   "source": [
    "## Dimensionality Reduction and Topic Modeling"
   ]
  },
  {
   "cell_type": "markdown",
   "metadata": {},
   "source": [
    "### Try LDA to visualizae topic mappings using pyLDAvis\n",
    "http://nbviewer.jupyter.org/github/bmabey/pyLDAvis/blob/master/notebooks/pyLDAvis_overview.ipynb#topic=0&lambda=0.51&term="
   ]
  },
  {
   "cell_type": "code",
   "execution_count": 408,
   "metadata": {},
   "outputs": [
    {
     "name": "stderr",
     "output_type": "stream",
     "text": [
      "2018-03-01 16:50:27,865 : INFO : using symmetric alpha at 0.05\n",
      "2018-03-01 16:50:27,868 : INFO : using symmetric eta at 0.05\n",
      "2018-03-01 16:50:27,871 : INFO : using serial LDA version on this node\n",
      "2018-03-01 16:50:29,381 : INFO : running online (multi-pass) LDA training, 20 topics, 5 passes over the supplied corpus of 10000 documents, updating model once every 2000 documents, evaluating perplexity every 10000 documents, iterating 50x with a convergence threshold of 0.001000\n",
      "2018-03-01 16:50:29,388 : INFO : PROGRESS: pass 0, at document #2000/10000\n",
      "2018-03-01 16:50:30,392 : INFO : merging changes from 2000 documents into a model of 10000 documents\n",
      "2018-03-01 16:50:30,494 : INFO : topic #17 (0.050): 0.009*\"tv\" + 0.005*\"man\" + 0.005*\"flood\" + 0.004*\"trump\" + 0.004*\"warning\" + 0.004*\"county\" + 0.003*\"delta\" + 0.003*\"texas\" + 0.003*\"school\" + 0.003*\"says\"\n",
      "2018-03-01 16:50:30,495 : INFO : topic #2 (0.050): 0.007*\"tv\" + 0.006*\"alert\" + 0.005*\"weather\" + 0.004*\"florida\" + 0.004*\"shooting\" + 0.004*\"school\" + 0.004*\"winter\" + 0.004*\"threats\" + 0.004*\"issued\" + 0.004*\"information\"\n",
      "2018-03-01 16:50:30,497 : INFO : topic #9 (0.050): 0.007*\"tv\" + 0.005*\"man\" + 0.005*\"atlanta\" + 0.004*\"youtube\" + 0.004*\"school\" + 0.003*\"threats\" + 0.003*\"winter\" + 0.003*\"police\" + 0.003*\"olympics\" + 0.003*\"spies\"\n",
      "2018-03-01 16:50:30,499 : INFO : topic #19 (0.050): 0.008*\"tv\" + 0.006*\"county\" + 0.006*\"warning\" + 0.006*\"flood\" + 0.005*\"missing\" + 0.005*\"time\" + 0.005*\"man\" + 0.004*\"shooting\" + 0.004*\"pm\" + 0.003*\"identified\"\n",
      "2018-03-01 16:50:30,501 : INFO : topic #6 (0.050): 0.014*\"tv\" + 0.004*\"pm\" + 0.003*\"police\" + 0.003*\"school\" + 0.003*\"youtube\" + 0.003*\"people\" + 0.003*\"ohio\" + 0.003*\"county\" + 0.003*\"says\" + 0.003*\"governor\"\n",
      "2018-03-01 16:50:30,502 : INFO : topic diff=17.320078, rho=1.000000\n",
      "2018-03-01 16:50:30,511 : INFO : PROGRESS: pass 0, at document #4000/10000\n",
      "2018-03-01 16:50:31,636 : INFO : merging changes from 2000 documents into a model of 10000 documents\n",
      "2018-03-01 16:50:31,699 : INFO : topic #1 (0.050): 0.006*\"olympicson\" + 0.006*\"youtube\" + 0.006*\"cherylpreheim\" + 0.005*\"car\" + 0.004*\"claims\" + 0.004*\"camera\" + 0.004*\"atlanta\" + 0.004*\"suv\" + 0.004*\"gates\" + 0.004*\"action\"\n",
      "2018-03-01 16:50:31,700 : INFO : topic #18 (0.050): 0.008*\"running\" + 0.007*\"graham\" + 0.006*\"age\" + 0.005*\"dies\" + 0.005*\"s\" + 0.004*\"rally\" + 0.004*\"following\" + 0.004*\"shooting\" + 0.004*\"evangelist\" + 0.004*\"filed\"\n",
      "2018-03-01 16:50:31,702 : INFO : topic #14 (0.050): 0.008*\"trump\" + 0.007*\"run\" + 0.007*\"shooting\" + 0.006*\"win\" + 0.006*\"committee\" + 0.005*\"house\" + 0.005*\"southeast\" + 0.004*\"intelligence\" + 0.004*\"school\" + 0.004*\"olympic\"\n",
      "2018-03-01 16:50:31,703 : INFO : topic #2 (0.050): 0.008*\"follow\" + 0.006*\"prices\" + 0.006*\"harvey\" + 0.005*\"youtube\" + 0.005*\"canadian\" + 0.005*\"school\" + 0.004*\"florida\" + 0.004*\"shooting\" + 0.004*\"violence\" + 0.004*\"teacher\"\n",
      "2018-03-01 16:50:31,705 : INFO : topic #13 (0.050): 0.008*\"lindsey\" + 0.008*\"spurs\" + 0.007*\"skating\" + 0.005*\"vonn\" + 0.005*\"final\" + 0.005*\"medals\" + 0.005*\"olympics\" + 0.004*\"big\" + 0.004*\"americans\" + 0.004*\"good\"\n",
      "2018-03-01 16:50:31,707 : INFO : topic diff=0.496612, rho=0.707107\n",
      "2018-03-01 16:50:31,715 : INFO : PROGRESS: pass 0, at document #6000/10000\n",
      "2018-03-01 16:50:32,711 : INFO : merging changes from 2000 documents into a model of 10000 documents\n",
      "2018-03-01 16:50:32,774 : INFO : topic #7 (0.050): 0.007*\"repadamschiff\" + 0.006*\"northwestern\" + 0.006*\"sheriff\" + 0.006*\"truth\" + 0.005*\"shooting\" + 0.005*\"school\" + 0.005*\"dog\" + 0.005*\"makes\" + 0.004*\"robbery\" + 0.004*\"florida\"\n",
      "2018-03-01 16:50:32,776 : INFO : topic #16 (0.050): 0.007*\"needs\" + 0.006*\"best\" + 0.006*\"score\" + 0.006*\"watch\" + 0.005*\"s\" + 0.005*\"live\" + 0.005*\"low\" + 0.005*\"weapons\" + 0.005*\"feb\" + 0.004*\"carry\"\n",
      "2018-03-01 16:50:32,777 : INFO : topic #3 (0.050): 0.008*\"hockey\" + 0.008*\"nra\" + 0.007*\"canada\" + 0.006*\"missing\" + 0.006*\"let\" + 0.005*\"amazing\" + 0.005*\"bronze\" + 0.005*\"usa\" + 0.005*\"mens\" + 0.005*\"company\"\n",
      "2018-03-01 16:50:32,779 : INFO : topic #14 (0.050): 0.009*\"trump\" + 0.008*\"house\" + 0.007*\"cost\" + 0.006*\"cst\" + 0.006*\"weather\" + 0.006*\"trailer\" + 0.006*\"school\" + 0.005*\"shooting\" + 0.005*\"run\" + 0.004*\"sign\"\n",
      "2018-03-01 16:50:32,780 : INFO : topic #5 (0.050): 0.011*\"houston\" + 0.009*\"school\" + 0.009*\"war\" + 0.007*\"department\" + 0.007*\"shootings\" + 0.007*\"trump\" + 0.006*\"police\" + 0.006*\"yearold\" + 0.006*\"man\" + 0.006*\"reacts\"\n",
      "2018-03-01 16:50:32,782 : INFO : topic diff=0.598419, rho=0.577350\n",
      "2018-03-01 16:50:32,791 : INFO : PROGRESS: pass 0, at document #8000/10000\n",
      "2018-03-01 16:50:33,949 : INFO : merging changes from 2000 documents into a model of 10000 documents\n",
      "2018-03-01 16:50:34,022 : INFO : topic #6 (0.050): 0.014*\"banassaultweapons\" + 0.008*\"storm\" + 0.008*\"rd\" + 0.007*\"points\" + 0.007*\"illinois\" + 0.007*\"gov\" + 0.006*\"good\" + 0.006*\"right\" + 0.006*\"did\" + 0.006*\"school\"\n",
      "2018-03-01 16:50:34,024 : INFO : topic #16 (0.050): 0.008*\"today\" + 0.007*\"live\" + 0.005*\"ready\" + 0.005*\"needs\" + 0.005*\"conversation\" + 0.005*\"best\" + 0.005*\"rain\" + 0.005*\"connectingyou\" + 0.004*\"low\" + 0.004*\"blue\"\n",
      "2018-03-01 16:50:34,026 : INFO : topic #0 (0.050): 0.007*\"heres\" + 0.007*\"tax\" + 0.005*\"starting\" + 0.005*\"weapons\" + 0.005*\"temperatures\" + 0.005*\"central\" + 0.004*\"cancer\" + 0.004*\"youtube\" + 0.004*\"trump\" + 0.004*\"country\"\n",
      "2018-03-01 16:50:34,028 : INFO : topic #2 (0.050): 0.007*\"corrupt\" + 0.005*\"people\" + 0.005*\"prices\" + 0.005*\"school\" + 0.004*\"america\" + 0.004*\"amp\" + 0.004*\"long\" + 0.004*\"follow\" + 0.004*\"consider\" + 0.004*\"second\"\n",
      "2018-03-01 16:50:34,030 : INFO : topic #19 (0.050): 0.009*\"leads\" + 0.008*\"job\" + 0.008*\"talk\" + 0.006*\"guy\" + 0.006*\"guns\" + 0.005*\"time\" + 0.005*\"going\" + 0.005*\"r\" + 0.005*\"political\" + 0.004*\"man\"\n",
      "2018-03-01 16:50:34,031 : INFO : topic diff=0.932425, rho=0.500000\n",
      "2018-03-01 16:50:35,427 : INFO : -19.834 per-word bound, 934419.6 perplexity estimate based on a held-out corpus of 2000 documents with 5057 words\n",
      "2018-03-01 16:50:35,429 : INFO : PROGRESS: pass 0, at document #10000/10000\n",
      "2018-03-01 16:50:36,402 : INFO : merging changes from 2000 documents into a model of 10000 documents\n",
      "2018-03-01 16:50:36,469 : INFO : topic #7 (0.050): 0.007*\"criminal\" + 0.007*\"business\" + 0.007*\"makes\" + 0.007*\"truth\" + 0.006*\"redtraccoon\" + 0.005*\"realdonaldtrump\" + 0.005*\"feel\" + 0.004*\"catches\" + 0.004*\"mcspocky\" + 0.004*\"like\"\n",
      "2018-03-01 16:50:36,470 : INFO : topic #2 (0.050): 0.008*\"america\" + 0.006*\"corrupt\" + 0.005*\"people\" + 0.004*\"smith\" + 0.004*\"want\" + 0.004*\"school\" + 0.004*\"does\" + 0.003*\"reality\" + 0.003*\"grow\" + 0.003*\"second\"\n",
      "2018-03-01 16:50:36,472 : INFO : topic #17 (0.050): 0.009*\"ca\" + 0.007*\"presssec\" + 0.007*\"wait\" + 0.006*\"doing\" + 0.005*\"district\" + 0.005*\"dloesch\" + 0.004*\"hear\" + 0.004*\"terrorists\" + 0.004*\"amazon\" + 0.004*\"gop\"\n",
      "2018-03-01 16:50:36,474 : INFO : topic #0 (0.050): 0.007*\"ll\" + 0.006*\"stop\" + 0.006*\"marijuana\" + 0.006*\"country\" + 0.006*\"heres\" + 0.005*\"kushner\" + 0.005*\"cyrustoulabi\" + 0.004*\"understand\" + 0.004*\"tax\" + 0.004*\"central\"\n",
      "2018-03-01 16:50:36,475 : INFO : topic #15 (0.050): 0.025*\"safetypindaily\" + 0.011*\"complicit\" + 0.007*\"tell\" + 0.006*\"sad\" + 0.005*\"coming\" + 0.005*\"block\" + 0.004*\"check\" + 0.004*\"thought\" + 0.004*\"got\" + 0.004*\"teapainusa\"\n",
      "2018-03-01 16:50:36,477 : INFO : topic diff=0.783289, rho=0.447214\n",
      "2018-03-01 16:50:36,486 : INFO : PROGRESS: pass 1, at document #2000/10000\n",
      "2018-03-01 16:50:37,267 : INFO : merging changes from 2000 documents into a model of 10000 documents\n",
      "2018-03-01 16:50:37,336 : INFO : topic #17 (0.050): 0.006*\"ca\" + 0.005*\"wait\" + 0.004*\"doing\" + 0.004*\"presssec\" + 0.004*\"delta\" + 0.004*\"district\" + 0.004*\"dloesch\" + 0.004*\"tv\" + 0.004*\"man\" + 0.003*\"walking\"\n",
      "2018-03-01 16:50:37,338 : INFO : topic #11 (0.050): 0.006*\"closing\" + 0.006*\"movie\" + 0.005*\"post\" + 0.005*\"red\" + 0.005*\"ceremony\" + 0.004*\"friends\" + 0.004*\"happen\" + 0.004*\"students\" + 0.004*\"severe\" + 0.004*\"twitterlockout\"\n",
      "2018-03-01 16:50:37,339 : INFO : topic #5 (0.050): 0.011*\"yearold\" + 0.008*\"man\" + 0.008*\"irdotnet\" + 0.008*\"tv\" + 0.008*\"police\" + 0.007*\"shot\" + 0.007*\"hell\" + 0.006*\"son\" + 0.006*\"boy\" + 0.005*\"death\"\n",
      "2018-03-01 16:50:37,341 : INFO : topic #3 (0.050): 0.011*\"missing\" + 0.007*\"nra\" + 0.007*\"cdc\" + 0.006*\"things\" + 0.005*\"youtube\" + 0.005*\"fedex\" + 0.005*\"let\" + 0.005*\"search\" + 0.005*\"democratic\" + 0.005*\"think\"\n",
      "2018-03-01 16:50:37,343 : INFO : topic #18 (0.050): 0.009*\"graham\" + 0.007*\"funder\" + 0.006*\"joyannreid\" + 0.006*\"mueller\" + 0.005*\"rev\" + 0.005*\"nice\" + 0.005*\"nebraska\" + 0.004*\"congress\" + 0.004*\"running\" + 0.004*\"sister\"\n",
      "2018-03-01 16:50:37,345 : INFO : topic diff=0.348044, rho=0.377964\n",
      "2018-03-01 16:50:37,353 : INFO : PROGRESS: pass 1, at document #4000/10000\n",
      "2018-03-01 16:50:38,054 : INFO : merging changes from 2000 documents into a model of 10000 documents\n",
      "2018-03-01 16:50:38,115 : INFO : topic #19 (0.050): 0.006*\"man\" + 0.006*\"guns\" + 0.006*\"stores\" + 0.005*\"time\" + 0.005*\"edkrassen\" + 0.005*\"months\" + 0.005*\"guy\" + 0.005*\"leads\" + 0.004*\"homes\" + 0.004*\"person\"\n",
      "2018-03-01 16:50:38,117 : INFO : topic #14 (0.050): 0.010*\"cnnpolitics\" + 0.009*\"trump\" + 0.007*\"run\" + 0.007*\"d\" + 0.006*\"weather\" + 0.006*\"pm\" + 0.006*\"house\" + 0.006*\"win\" + 0.006*\"cnn\" + 0.005*\"believe\"\n",
      "2018-03-01 16:50:38,119 : INFO : topic #17 (0.050): 0.007*\"ca\" + 0.005*\"games\" + 0.005*\"texas\" + 0.005*\"madison\" + 0.005*\"study\" + 0.005*\"doing\" + 0.004*\"man\" + 0.004*\"hear\" + 0.004*\"serial\" + 0.004*\"little\"\n",
      "2018-03-01 16:50:38,120 : INFO : topic #11 (0.050): 0.008*\"closing\" + 0.006*\"post\" + 0.005*\"movie\" + 0.005*\"leave\" + 0.005*\"ceremony\" + 0.005*\"lead\" + 0.005*\"severe\" + 0.005*\"students\" + 0.005*\"friends\" + 0.004*\"charge\"\n",
      "2018-03-01 16:50:38,122 : INFO : topic #8 (0.050): 0.009*\"true\" + 0.007*\"house\" + 0.006*\"korea\" + 0.006*\"silver\" + 0.005*\"white\" + 0.005*\"board\" + 0.005*\"player\" + 0.005*\"safe\" + 0.004*\"orange\" + 0.004*\"large\"\n",
      "2018-03-01 16:50:38,124 : INFO : topic diff=0.313559, rho=0.377964\n",
      "2018-03-01 16:50:38,133 : INFO : PROGRESS: pass 1, at document #6000/10000\n",
      "2018-03-01 16:50:38,809 : INFO : merging changes from 2000 documents into a model of 10000 documents\n",
      "2018-03-01 16:50:38,873 : INFO : topic #9 (0.050): 0.007*\"trumps\" + 0.006*\"wisconsin\" + 0.006*\"court\" + 0.006*\"does\" + 0.006*\"st\" + 0.006*\"state\" + 0.006*\"black\" + 0.006*\"mike\" + 0.005*\"pence\" + 0.005*\"supreme\"\n",
      "2018-03-01 16:50:38,874 : INFO : topic #17 (0.050): 0.008*\"madison\" + 0.007*\"doing\" + 0.006*\"ca\" + 0.005*\"texas\" + 0.005*\"kids\" + 0.005*\"study\" + 0.005*\"games\" + 0.005*\"prison\" + 0.005*\"alcohol\" + 0.004*\"sentenced\"\n",
      "2018-03-01 16:50:38,876 : INFO : topic #8 (0.050): 0.010*\"true\" + 0.007*\"house\" + 0.006*\"safe\" + 0.006*\"safety\" + 0.005*\"board\" + 0.005*\"white\" + 0.005*\"large\" + 0.005*\"discuss\" + 0.005*\"lost\" + 0.004*\"korea\"\n",
      "2018-03-01 16:50:38,878 : INFO : topic #4 (0.050): 0.007*\"fatal\" + 0.006*\"county\" + 0.006*\"police\" + 0.005*\"woman\" + 0.005*\"flood\" + 0.005*\"food\" + 0.005*\"love\" + 0.005*\"cpac\" + 0.005*\"investigators\" + 0.005*\"possible\"\n",
      "2018-03-01 16:50:38,879 : INFO : topic #7 (0.050): 0.006*\"dog\" + 0.006*\"sheriff\" + 0.005*\"truth\" + 0.005*\"makes\" + 0.005*\"repadamschiff\" + 0.005*\"shooting\" + 0.005*\"badgers\" + 0.005*\"ivanka\" + 0.005*\"school\" + 0.005*\"northwestern\"\n",
      "2018-03-01 16:50:38,881 : INFO : topic diff=0.305131, rho=0.377964\n",
      "2018-03-01 16:50:38,890 : INFO : PROGRESS: pass 1, at document #8000/10000\n",
      "2018-03-01 16:50:39,644 : INFO : merging changes from 2000 documents into a model of 10000 documents\n",
      "2018-03-01 16:50:39,721 : INFO : topic #6 (0.050): 0.012*\"banassaultweapons\" + 0.008*\"good\" + 0.008*\"storm\" + 0.008*\"right\" + 0.007*\"rd\" + 0.007*\"illinois\" + 0.006*\"points\" + 0.006*\"gov\" + 0.006*\"s\" + 0.005*\"did\"\n",
      "2018-03-01 16:50:39,723 : INFO : topic #10 (0.050): 0.015*\"kmasports\" + 0.013*\"valley\" + 0.011*\"bedford\" + 0.009*\"listen\" + 0.008*\"february\" + 0.008*\"nodaway\" + 0.007*\"gold\" + 0.007*\"left\" + 0.005*\"usa\" + 0.005*\"play\"\n",
      "2018-03-01 16:50:39,724 : INFO : topic #19 (0.050): 0.009*\"leads\" + 0.008*\"job\" + 0.006*\"guns\" + 0.006*\"guy\" + 0.005*\"talk\" + 0.005*\"r\" + 0.005*\"time\" + 0.005*\"political\" + 0.005*\"going\" + 0.005*\"macon\"\n",
      "2018-03-01 16:50:39,725 : INFO : topic #7 (0.050): 0.006*\"business\" + 0.006*\"season\" + 0.005*\"makes\" + 0.005*\"truth\" + 0.004*\"politico\" + 0.004*\"dog\" + 0.004*\"able\" + 0.004*\"repadamschiff\" + 0.004*\"questions\" + 0.004*\"sheriff\"\n",
      "2018-03-01 16:50:39,727 : INFO : topic #9 (0.050): 0.009*\"st\" + 0.007*\"does\" + 0.006*\"trumps\" + 0.006*\"thanks\" + 0.006*\"court\" + 0.006*\"black\" + 0.005*\"says\" + 0.005*\"supreme\" + 0.005*\"state\" + 0.004*\"dying\"\n",
      "2018-03-01 16:50:39,729 : INFO : topic diff=0.319377, rho=0.377964\n",
      "2018-03-01 16:50:40,923 : INFO : -14.329 per-word bound, 20576.2 perplexity estimate based on a held-out corpus of 2000 documents with 5057 words\n",
      "2018-03-01 16:50:40,924 : INFO : PROGRESS: pass 1, at document #10000/10000\n",
      "2018-03-01 16:50:41,646 : INFO : merging changes from 2000 documents into a model of 10000 documents\n",
      "2018-03-01 16:50:41,726 : INFO : topic #13 (0.050): 0.030*\"thehill\" + 0.014*\"tax\" + 0.007*\"ve\" + 0.005*\"chicago\" + 0.005*\"americans\" + 0.005*\"women\" + 0.005*\"hour\" + 0.004*\"california\" + 0.004*\"la\" + 0.004*\"community\"\n",
      "2018-03-01 16:50:41,728 : INFO : topic #16 (0.050): 0.007*\"needs\" + 0.006*\"best\" + 0.006*\"traitor\" + 0.006*\"ready\" + 0.005*\"sure\" + 0.005*\"today\" + 0.005*\"live\" + 0.004*\"remember\" + 0.004*\"conversation\" + 0.004*\"monday\"\n",
      "2018-03-01 16:50:41,730 : INFO : topic #17 (0.050): 0.009*\"ca\" + 0.007*\"presssec\" + 0.006*\"wait\" + 0.006*\"doing\" + 0.006*\"district\" + 0.005*\"dloesch\" + 0.004*\"think\" + 0.004*\"hear\" + 0.004*\"amazon\" + 0.004*\"terrorists\"\n",
      "2018-03-01 16:50:41,731 : INFO : topic #7 (0.050): 0.007*\"makes\" + 0.006*\"criminal\" + 0.006*\"truth\" + 0.006*\"business\" + 0.006*\"redtraccoon\" + 0.006*\"realdonaldtrump\" + 0.005*\"dog\" + 0.005*\"feel\" + 0.005*\"know\" + 0.004*\"trumps\"\n",
      "2018-03-01 16:50:41,733 : INFO : topic #1 (0.050): 0.012*\"thank\" + 0.011*\"facts\" + 0.007*\"lot\" + 0.007*\"talking\" + 0.006*\"power\" + 0.005*\"better\" + 0.005*\"action\" + 0.005*\"great\" + 0.004*\"days\" + 0.004*\"conspiracy\"\n",
      "2018-03-01 16:50:41,735 : INFO : topic diff=0.267741, rho=0.377964\n",
      "2018-03-01 16:50:41,743 : INFO : PROGRESS: pass 2, at document #2000/10000\n",
      "2018-03-01 16:50:42,543 : INFO : merging changes from 2000 documents into a model of 10000 documents\n",
      "2018-03-01 16:50:42,615 : INFO : topic #7 (0.050): 0.005*\"dog\" + 0.005*\"struck\" + 0.005*\"makes\" + 0.005*\"criminal\" + 0.005*\"sheriff\" + 0.004*\"business\" + 0.004*\"truth\" + 0.004*\"voice\" + 0.004*\"arrest\" + 0.004*\"ivanka\"\n",
      "2018-03-01 16:50:42,618 : INFO : topic #16 (0.050): 0.007*\"live\" + 0.007*\"sunday\" + 0.006*\"best\" + 0.006*\"watch\" + 0.005*\"monday\" + 0.005*\"feb\" + 0.005*\"today\" + 0.005*\"needs\" + 0.005*\"sure\" + 0.004*\"ready\"\n",
      "2018-03-01 16:50:42,619 : INFO : topic #6 (0.050): 0.009*\"good\" + 0.007*\"right\" + 0.007*\"union\" + 0.006*\"tv\" + 0.006*\"banassaultweapons\" + 0.005*\"dumptrump\" + 0.005*\"s\" + 0.004*\"thing\" + 0.004*\"obama\" + 0.004*\"medical\"\n",
      "2018-03-01 16:50:42,621 : INFO : topic #5 (0.050): 0.014*\"yearold\" + 0.010*\"tv\" + 0.009*\"man\" + 0.009*\"police\" + 0.008*\"shot\" + 0.008*\"irdotnet\" + 0.007*\"killed\" + 0.006*\"hell\" + 0.006*\"son\" + 0.006*\"boy\"\n",
      "2018-03-01 16:50:42,622 : INFO : topic #1 (0.050): 0.008*\"thank\" + 0.007*\"facts\" + 0.006*\"power\" + 0.005*\"action\" + 0.005*\"lot\" + 0.005*\"tv\" + 0.005*\"airport\" + 0.005*\"great\" + 0.004*\"atlanta\" + 0.004*\"injured\"\n",
      "2018-03-01 16:50:42,624 : INFO : topic diff=0.203366, rho=0.353553\n",
      "2018-03-01 16:50:42,638 : INFO : PROGRESS: pass 2, at document #4000/10000\n",
      "2018-03-01 16:50:43,294 : INFO : merging changes from 2000 documents into a model of 10000 documents\n",
      "2018-03-01 16:50:43,358 : INFO : topic #13 (0.050): 0.014*\"thehill\" + 0.008*\"lindsey\" + 0.008*\"tax\" + 0.006*\"spurs\" + 0.006*\"vonn\" + 0.006*\"skating\" + 0.005*\"final\" + 0.005*\"women\" + 0.005*\"americans\" + 0.004*\"hour\"\n",
      "2018-03-01 16:50:43,360 : INFO : topic #4 (0.050): 0.010*\"flood\" + 0.009*\"warning\" + 0.008*\"county\" + 0.006*\"police\" + 0.006*\"cpac\" + 0.006*\"weather\" + 0.005*\"love\" + 0.005*\"evidence\" + 0.005*\"alert\" + 0.004*\"texas\"\n",
      "2018-03-01 16:50:43,362 : INFO : topic #5 (0.050): 0.014*\"yearold\" + 0.011*\"man\" + 0.010*\"police\" + 0.010*\"shot\" + 0.009*\"killed\" + 0.007*\"death\" + 0.007*\"school\" + 0.007*\"son\" + 0.006*\"tv\" + 0.006*\"shootings\"\n",
      "2018-03-01 16:50:43,364 : INFO : topic #11 (0.050): 0.008*\"closing\" + 0.006*\"post\" + 0.006*\"ceremony\" + 0.006*\"lead\" + 0.006*\"movie\" + 0.005*\"leave\" + 0.005*\"severe\" + 0.005*\"students\" + 0.005*\"happen\" + 0.005*\"friends\"\n",
      "2018-03-01 16:50:43,367 : INFO : topic #8 (0.050): 0.009*\"true\" + 0.007*\"korea\" + 0.006*\"house\" + 0.006*\"silver\" + 0.005*\"large\" + 0.005*\"board\" + 0.005*\"white\" + 0.005*\"safe\" + 0.005*\"point\" + 0.005*\"player\"\n",
      "2018-03-01 16:50:43,369 : INFO : topic diff=0.177395, rho=0.353553\n",
      "2018-03-01 16:50:43,379 : INFO : PROGRESS: pass 2, at document #6000/10000\n",
      "2018-03-01 16:50:44,073 : INFO : merging changes from 2000 documents into a model of 10000 documents\n",
      "2018-03-01 16:50:44,135 : INFO : topic #1 (0.050): 0.007*\"thank\" + 0.006*\"gates\" + 0.005*\"action\" + 0.005*\"conspiracy\" + 0.005*\"lawrence\" + 0.005*\"airport\" + 0.005*\"days\" + 0.005*\"camera\" + 0.004*\"talking\" + 0.004*\"lives\"\n",
      "2018-03-01 16:50:44,136 : INFO : topic #13 (0.050): 0.012*\"thehill\" + 0.008*\"tax\" + 0.007*\"hour\" + 0.006*\"lindsey\" + 0.005*\"spurs\" + 0.005*\"vonn\" + 0.005*\"women\" + 0.004*\"final\" + 0.004*\"california\" + 0.004*\"community\"\n",
      "2018-03-01 16:50:44,138 : INFO : topic #15 (0.050): 0.008*\"stormtrack\" + 0.007*\"safetypindaily\" + 0.007*\"wiwx\" + 0.005*\"scam\" + 0.005*\"destruction\" + 0.005*\"teapainusa\" + 0.004*\"sad\" + 0.004*\"program\" + 0.004*\"s\" + 0.004*\"begins\"\n",
      "2018-03-01 16:50:44,140 : INFO : topic #5 (0.050): 0.012*\"yearold\" + 0.010*\"man\" + 0.009*\"police\" + 0.009*\"school\" + 0.008*\"houston\" + 0.008*\"shot\" + 0.008*\"killed\" + 0.008*\"death\" + 0.007*\"war\" + 0.007*\"shootings\"\n",
      "2018-03-01 16:50:44,141 : INFO : topic #10 (0.050): 0.012*\"gold\" + 0.008*\"listen\" + 0.008*\"february\" + 0.008*\"medal\" + 0.007*\"usa\" + 0.007*\"olympic\" + 0.006*\"womens\" + 0.005*\"wins\" + 0.005*\"latest\" + 0.005*\"team\"\n",
      "2018-03-01 16:50:44,143 : INFO : topic diff=0.173196, rho=0.353553\n",
      "2018-03-01 16:50:44,153 : INFO : PROGRESS: pass 2, at document #8000/10000\n",
      "2018-03-01 16:50:44,911 : INFO : merging changes from 2000 documents into a model of 10000 documents\n",
      "2018-03-01 16:50:44,981 : INFO : topic #7 (0.050): 0.006*\"season\" + 0.006*\"business\" + 0.005*\"makes\" + 0.005*\"dog\" + 0.005*\"truth\" + 0.004*\"politico\" + 0.004*\"able\" + 0.004*\"questions\" + 0.004*\"sheriff\" + 0.004*\"repadamschiff\"\n",
      "2018-03-01 16:50:44,984 : INFO : topic #2 (0.050): 0.007*\"corrupt\" + 0.007*\"america\" + 0.005*\"people\" + 0.005*\"heart\" + 0.005*\"prices\" + 0.005*\"follow\" + 0.004*\"second\" + 0.004*\"school\" + 0.004*\"plan\" + 0.004*\"amp\"\n",
      "2018-03-01 16:50:44,986 : INFO : topic #19 (0.050): 0.009*\"leads\" + 0.008*\"job\" + 0.006*\"guns\" + 0.006*\"edkrassen\" + 0.005*\"guy\" + 0.005*\"macon\" + 0.005*\"r\" + 0.005*\"talk\" + 0.005*\"time\" + 0.004*\"political\"\n",
      "2018-03-01 16:50:44,988 : INFO : topic #0 (0.050): 0.007*\"heres\" + 0.006*\"tax\" + 0.006*\"weapons\" + 0.005*\"central\" + 0.005*\"country\" + 0.005*\"cancer\" + 0.005*\"stop\" + 0.005*\"armed\" + 0.005*\"starting\" + 0.004*\"temperatures\"\n",
      "2018-03-01 16:50:44,990 : INFO : topic #1 (0.050): 0.010*\"thank\" + 0.006*\"lot\" + 0.006*\"better\" + 0.006*\"talking\" + 0.005*\"lawrence\" + 0.005*\"east\" + 0.005*\"pay\" + 0.005*\"days\" + 0.005*\"power\" + 0.005*\"great\"\n",
      "2018-03-01 16:50:44,991 : INFO : topic diff=0.188635, rho=0.353553\n",
      "2018-03-01 16:50:46,070 : INFO : -13.727 per-word bound, 13562.9 perplexity estimate based on a held-out corpus of 2000 documents with 5057 words\n",
      "2018-03-01 16:50:46,072 : INFO : PROGRESS: pass 2, at document #10000/10000\n",
      "2018-03-01 16:50:46,737 : INFO : merging changes from 2000 documents into a model of 10000 documents\n",
      "2018-03-01 16:50:46,819 : INFO : topic #8 (0.050): 0.017*\"true\" + 0.008*\"agree\" + 0.006*\"government\" + 0.006*\"korea\" + 0.005*\"s\" + 0.005*\"safe\" + 0.005*\"disgusting\" + 0.005*\"house\" + 0.005*\"lost\" + 0.004*\"fake\"\n",
      "2018-03-01 16:50:46,821 : INFO : topic #13 (0.050): 0.028*\"thehill\" + 0.014*\"tax\" + 0.007*\"ve\" + 0.005*\"chicago\" + 0.005*\"hour\" + 0.005*\"women\" + 0.005*\"americans\" + 0.004*\"taxes\" + 0.004*\"california\" + 0.004*\"la\"\n",
      "2018-03-01 16:50:46,823 : INFO : topic #5 (0.050): 0.012*\"irdotnet\" + 0.010*\"hell\" + 0.009*\"yearold\" + 0.009*\"police\" + 0.008*\"man\" + 0.007*\"son\" + 0.006*\"war\" + 0.006*\"death\" + 0.006*\"school\" + 0.006*\"department\"\n",
      "2018-03-01 16:50:46,824 : INFO : topic #14 (0.050): 0.023*\"cnnpolitics\" + 0.011*\"trump\" + 0.009*\"cnn\" + 0.008*\"_\" + 0.007*\"theleadeditor\" + 0.006*\"cj_disabledvet\" + 0.006*\"wh\" + 0.006*\"d\" + 0.006*\"believe\" + 0.006*\"stupid\"\n",
      "2018-03-01 16:50:46,826 : INFO : topic #10 (0.050): 0.012*\"kmasports\" + 0.009*\"valley\" + 0.009*\"february\" + 0.008*\"bedford\" + 0.008*\"listen\" + 0.007*\"left\" + 0.007*\"gold\" + 0.006*\"nodaway\" + 0.004*\"play\" + 0.004*\"end\"\n",
      "2018-03-01 16:50:46,828 : INFO : topic diff=0.161508, rho=0.353553\n",
      "2018-03-01 16:50:46,836 : INFO : PROGRESS: pass 3, at document #2000/10000\n",
      "2018-03-01 16:50:47,539 : INFO : merging changes from 2000 documents into a model of 10000 documents\n",
      "2018-03-01 16:50:47,609 : INFO : topic #1 (0.050): 0.008*\"thank\" + 0.007*\"facts\" + 0.006*\"power\" + 0.005*\"action\" + 0.005*\"lot\" + 0.005*\"tv\" + 0.005*\"airport\" + 0.004*\"great\" + 0.004*\"atlanta\" + 0.004*\"talking\"\n",
      "2018-03-01 16:50:47,610 : INFO : topic #10 (0.050): 0.010*\"gold\" + 0.009*\"february\" + 0.008*\"kmasports\" + 0.006*\"listen\" + 0.006*\"valley\" + 0.006*\"olympic\" + 0.006*\"olympics\" + 0.005*\"bedford\" + 0.005*\"left\" + 0.005*\"curling\"\n",
      "2018-03-01 16:50:47,611 : INFO : topic #5 (0.050): 0.014*\"yearold\" + 0.012*\"tv\" + 0.010*\"police\" + 0.010*\"man\" + 0.008*\"shot\" + 0.008*\"killed\" + 0.007*\"irdotnet\" + 0.007*\"school\" + 0.006*\"girl\" + 0.006*\"son\"\n",
      "2018-03-01 16:50:47,613 : INFO : topic #13 (0.050): 0.020*\"thehill\" + 0.010*\"tax\" + 0.006*\"ve\" + 0.004*\"women\" + 0.004*\"california\" + 0.004*\"hour\" + 0.004*\"chicago\" + 0.004*\"americans\" + 0.004*\"benefits\" + 0.003*\"republican\"\n",
      "2018-03-01 16:50:47,615 : INFO : topic #9 (0.050): 0.007*\"black\" + 0.006*\"court\" + 0.006*\"st\" + 0.006*\"olympicson\" + 0.006*\"does\" + 0.006*\"cherylpreheim\" + 0.005*\"russian\" + 0.005*\"thanks\" + 0.005*\"trumps\" + 0.005*\"supreme\"\n",
      "2018-03-01 16:50:47,617 : INFO : topic diff=0.130788, rho=0.333333\n",
      "2018-03-01 16:50:47,626 : INFO : PROGRESS: pass 3, at document #4000/10000\n",
      "2018-03-01 16:50:48,269 : INFO : merging changes from 2000 documents into a model of 10000 documents\n",
      "2018-03-01 16:50:48,334 : INFO : topic #11 (0.050): 0.008*\"closing\" + 0.006*\"post\" + 0.006*\"ceremony\" + 0.006*\"lead\" + 0.005*\"movie\" + 0.005*\"leave\" + 0.005*\"happen\" + 0.005*\"severe\" + 0.005*\"students\" + 0.005*\"friends\"\n",
      "2018-03-01 16:50:48,337 : INFO : topic #8 (0.050): 0.010*\"true\" + 0.007*\"korea\" + 0.007*\"house\" + 0.006*\"silver\" + 0.005*\"white\" + 0.005*\"large\" + 0.005*\"safe\" + 0.005*\"board\" + 0.005*\"lost\" + 0.005*\"point\"\n",
      "2018-03-01 16:50:48,339 : INFO : topic #3 (0.050): 0.008*\"things\" + 0.007*\"missing\" + 0.007*\"nra\" + 0.007*\"hockey\" + 0.006*\"canada\" + 0.006*\"youtube\" + 0.006*\"missed\" + 0.005*\"let\" + 0.005*\"company\" + 0.005*\"know\"\n",
      "2018-03-01 16:50:48,340 : INFO : topic #12 (0.050): 0.010*\"school\" + 0.009*\"high\" + 0.008*\"media\" + 0.008*\"social\" + 0.008*\"traffic\" + 0.007*\"student\" + 0.007*\"dies\" + 0.006*\"threat\" + 0.006*\"daughter\" + 0.005*\"twitter\"\n",
      "2018-03-01 16:50:48,342 : INFO : topic #10 (0.050): 0.012*\"gold\" + 0.009*\"olympic\" + 0.009*\"listen\" + 0.009*\"medal\" + 0.007*\"usa\" + 0.007*\"olympics\" + 0.006*\"team\" + 0.006*\"february\" + 0.006*\"curling\" + 0.005*\"medals\"\n",
      "2018-03-01 16:50:48,344 : INFO : topic diff=0.118313, rho=0.333333\n",
      "2018-03-01 16:50:48,354 : INFO : PROGRESS: pass 3, at document #6000/10000\n",
      "2018-03-01 16:50:49,027 : INFO : merging changes from 2000 documents into a model of 10000 documents\n",
      "2018-03-01 16:50:49,087 : INFO : topic #8 (0.050): 0.010*\"true\" + 0.007*\"house\" + 0.006*\"safety\" + 0.006*\"safe\" + 0.005*\"board\" + 0.005*\"korea\" + 0.005*\"discuss\" + 0.005*\"lost\" + 0.005*\"large\" + 0.005*\"white\"\n",
      "2018-03-01 16:50:49,089 : INFO : topic #16 (0.050): 0.009*\"best\" + 0.007*\"watch\" + 0.006*\"live\" + 0.006*\"feb\" + 0.006*\"needs\" + 0.005*\"protest\" + 0.005*\"sunday\" + 0.005*\"olympic\" + 0.005*\"streams\" + 0.004*\"score\"\n",
      "2018-03-01 16:50:49,091 : INFO : topic #0 (0.050): 0.007*\"weapons\" + 0.007*\"central\" + 0.006*\"cancer\" + 0.006*\"stop\" + 0.005*\"armed\" + 0.005*\"drug\" + 0.005*\"starting\" + 0.005*\"gets\" + 0.005*\"teachers\" + 0.005*\"heres\"\n",
      "2018-03-01 16:50:49,092 : INFO : topic #19 (0.050): 0.008*\"guns\" + 0.008*\"macon\" + 0.006*\"edkrassen\" + 0.006*\"stores\" + 0.006*\"chase\" + 0.006*\"leads\" + 0.005*\"job\" + 0.005*\"man\" + 0.005*\"kill\" + 0.005*\"homes\"\n",
      "2018-03-01 16:50:49,094 : INFO : topic #5 (0.050): 0.013*\"yearold\" + 0.010*\"man\" + 0.010*\"police\" + 0.009*\"school\" + 0.009*\"killed\" + 0.008*\"shot\" + 0.008*\"houston\" + 0.008*\"death\" + 0.007*\"war\" + 0.007*\"shootings\"\n",
      "2018-03-01 16:50:49,096 : INFO : topic diff=0.121858, rho=0.333333\n",
      "2018-03-01 16:50:49,106 : INFO : PROGRESS: pass 3, at document #8000/10000\n",
      "2018-03-01 16:50:49,863 : INFO : merging changes from 2000 documents into a model of 10000 documents\n",
      "2018-03-01 16:50:49,934 : INFO : topic #17 (0.050): 0.009*\"district\" + 0.008*\"ca\" + 0.006*\"years\" + 0.006*\"doing\" + 0.006*\"sabrina\" + 0.005*\"sentenced\" + 0.005*\"limon\" + 0.005*\"madison\" + 0.005*\"prison\" + 0.004*\"study\"\n",
      "2018-03-01 16:50:49,935 : INFO : topic #10 (0.050): 0.017*\"kmasports\" + 0.012*\"valley\" + 0.010*\"bedford\" + 0.009*\"listen\" + 0.008*\"february\" + 0.008*\"gold\" + 0.008*\"nodaway\" + 0.007*\"left\" + 0.006*\"connectingyou\" + 0.005*\"medal\"\n",
      "2018-03-01 16:50:49,937 : INFO : topic #0 (0.050): 0.007*\"heres\" + 0.006*\"tax\" + 0.006*\"weapons\" + 0.005*\"central\" + 0.005*\"country\" + 0.005*\"stop\" + 0.005*\"cancer\" + 0.005*\"armed\" + 0.005*\"starting\" + 0.004*\"club\"\n",
      "2018-03-01 16:50:49,938 : INFO : topic #12 (0.050): 0.011*\"school\" + 0.010*\"traffic\" + 0.008*\"media\" + 0.008*\"high\" + 0.007*\"social\" + 0.006*\"totaltrafficmsn\" + 0.006*\"student\" + 0.006*\"closed\" + 0.005*\"delay\" + 0.005*\"dies\"\n",
      "2018-03-01 16:50:49,940 : INFO : topic #13 (0.050): 0.020*\"tax\" + 0.008*\"hour\" + 0.007*\"thehill\" + 0.007*\"chicago\" + 0.006*\"taxes\" + 0.006*\"community\" + 0.005*\"ve\" + 0.005*\"women\" + 0.005*\"california\" + 0.004*\"turbotax\"\n",
      "2018-03-01 16:50:49,942 : INFO : topic diff=0.142353, rho=0.333333\n",
      "2018-03-01 16:50:51,004 : INFO : -13.534 per-word bound, 11859.8 perplexity estimate based on a held-out corpus of 2000 documents with 5057 words\n",
      "2018-03-01 16:50:51,005 : INFO : PROGRESS: pass 3, at document #10000/10000\n",
      "2018-03-01 16:50:51,638 : INFO : merging changes from 2000 documents into a model of 10000 documents\n",
      "2018-03-01 16:50:51,706 : INFO : topic #4 (0.050): 0.010*\"cpac\" + 0.008*\"love\" + 0.006*\"fascists\" + 0.006*\"hate\" + 0.005*\"irisrimon\" + 0.005*\"daddy\" + 0.005*\"county\" + 0.005*\"unions\" + 0.004*\"hillary\" + 0.004*\"proud\"\n",
      "2018-03-01 16:50:51,707 : INFO : topic #1 (0.050): 0.012*\"thank\" + 0.010*\"facts\" + 0.007*\"lot\" + 0.006*\"talking\" + 0.006*\"power\" + 0.005*\"better\" + 0.005*\"action\" + 0.004*\"great\" + 0.004*\"pay\" + 0.004*\"conspiracy\"\n",
      "2018-03-01 16:50:51,709 : INFO : topic #14 (0.050): 0.022*\"cnnpolitics\" + 0.011*\"trump\" + 0.009*\"cnn\" + 0.008*\"_\" + 0.007*\"theleadeditor\" + 0.006*\"d\" + 0.006*\"cj_disabledvet\" + 0.006*\"wh\" + 0.006*\"believe\" + 0.006*\"wtf\"\n",
      "2018-03-01 16:50:51,711 : INFO : topic #19 (0.050): 0.019*\"krassenstein\" + 0.016*\"edkrassen\" + 0.013*\"realdonaldtrump\" + 0.012*\"dwyer\" + 0.006*\"guns\" + 0.006*\"leads\" + 0.006*\"job\" + 0.006*\"iamororo\" + 0.005*\"guy\" + 0.005*\"fear\"\n",
      "2018-03-01 16:50:51,712 : INFO : topic #6 (0.050): 0.012*\"good\" + 0.008*\"right\" + 0.007*\"banassaultweapons\" + 0.007*\"s\" + 0.007*\"werise\" + 0.007*\"dumptrump\" + 0.006*\"union\" + 0.006*\"thing\" + 0.005*\"rvawonk\" + 0.005*\"knew\"\n",
      "2018-03-01 16:50:51,714 : INFO : topic diff=0.127621, rho=0.333333\n",
      "2018-03-01 16:50:51,723 : INFO : PROGRESS: pass 4, at document #2000/10000\n",
      "2018-03-01 16:50:52,383 : INFO : merging changes from 2000 documents into a model of 10000 documents\n",
      "2018-03-01 16:50:52,450 : INFO : topic #10 (0.050): 0.011*\"gold\" + 0.009*\"kmasports\" + 0.009*\"february\" + 0.007*\"listen\" + 0.006*\"valley\" + 0.006*\"olympic\" + 0.006*\"olympics\" + 0.005*\"bedford\" + 0.005*\"left\" + 0.005*\"curling\"\n",
      "2018-03-01 16:50:52,451 : INFO : topic #8 (0.050): 0.012*\"true\" + 0.006*\"government\" + 0.006*\"korea\" + 0.006*\"lost\" + 0.005*\"agree\" + 0.005*\"house\" + 0.005*\"white\" + 0.004*\"says\" + 0.004*\"safe\" + 0.004*\"disgusting\"\n",
      "2018-03-01 16:50:52,453 : INFO : topic #17 (0.050): 0.007*\"ca\" + 0.006*\"delta\" + 0.005*\"wait\" + 0.005*\"doing\" + 0.005*\"district\" + 0.004*\"presssec\" + 0.004*\"bring\" + 0.004*\"little\" + 0.004*\"years\" + 0.004*\"dloesch\"\n",
      "2018-03-01 16:50:52,455 : INFO : topic #1 (0.050): 0.009*\"thank\" + 0.007*\"facts\" + 0.006*\"power\" + 0.005*\"action\" + 0.005*\"lot\" + 0.005*\"tv\" + 0.005*\"airport\" + 0.004*\"great\" + 0.004*\"atlanta\" + 0.004*\"pay\"\n",
      "2018-03-01 16:50:52,457 : INFO : topic #14 (0.050): 0.015*\"cnnpolitics\" + 0.009*\"trump\" + 0.009*\"pm\" + 0.008*\"d\" + 0.008*\"weather\" + 0.007*\"cst\" + 0.007*\"cnn\" + 0.006*\"_\" + 0.006*\"sat\" + 0.006*\"house\"\n",
      "2018-03-01 16:50:52,459 : INFO : topic diff=0.106060, rho=0.316228\n",
      "2018-03-01 16:50:52,467 : INFO : PROGRESS: pass 4, at document #4000/10000\n",
      "2018-03-01 16:50:53,173 : INFO : merging changes from 2000 documents into a model of 10000 documents\n",
      "2018-03-01 16:50:53,238 : INFO : topic #10 (0.050): 0.012*\"gold\" + 0.010*\"olympic\" + 0.009*\"medal\" + 0.009*\"listen\" + 0.007*\"olympics\" + 0.007*\"usa\" + 0.007*\"team\" + 0.006*\"medals\" + 0.006*\"february\" + 0.006*\"kmasports\"\n",
      "2018-03-01 16:50:53,240 : INFO : topic #9 (0.050): 0.012*\"olympicson\" + 0.011*\"cherylpreheim\" + 0.007*\"court\" + 0.006*\"black\" + 0.006*\"does\" + 0.005*\"russian\" + 0.005*\"state\" + 0.005*\"help\" + 0.005*\"day\" + 0.005*\"daca\"\n",
      "2018-03-01 16:50:53,242 : INFO : topic #2 (0.050): 0.007*\"america\" + 0.007*\"follow\" + 0.007*\"heart\" + 0.006*\"badgers\" + 0.006*\"attack\" + 0.005*\"big\" + 0.005*\"smith\" + 0.005*\"canadian\" + 0.004*\"massive\" + 0.004*\"telemundopr\"\n",
      "2018-03-01 16:50:53,243 : INFO : topic #4 (0.050): 0.011*\"flood\" + 0.010*\"county\" + 0.009*\"warning\" + 0.006*\"weather\" + 0.006*\"cpac\" + 0.006*\"police\" + 0.005*\"alert\" + 0.005*\"love\" + 0.005*\"texas\" + 0.005*\"evidence\"\n",
      "2018-03-01 16:50:53,245 : INFO : topic #1 (0.050): 0.006*\"thank\" + 0.005*\"action\" + 0.005*\"airport\" + 0.005*\"victim\" + 0.005*\"facts\" + 0.004*\"lot\" + 0.004*\"conspiracy\" + 0.004*\"atlanta\" + 0.004*\"power\" + 0.004*\"youtube\"\n",
      "2018-03-01 16:50:53,248 : INFO : topic diff=0.098842, rho=0.316228\n",
      "2018-03-01 16:50:53,257 : INFO : PROGRESS: pass 4, at document #6000/10000\n",
      "2018-03-01 16:50:53,938 : INFO : merging changes from 2000 documents into a model of 10000 documents\n",
      "2018-03-01 16:50:53,996 : INFO : topic #18 (0.050): 0.015*\"graham\" + 0.009*\"running\" + 0.008*\"funder\" + 0.008*\"died\" + 0.006*\"mueller\" + 0.006*\"rev\" + 0.006*\"evangelist\" + 0.006*\"manafort\" + 0.005*\"shooting\" + 0.005*\"florida\"\n",
      "2018-03-01 16:50:53,998 : INFO : topic #8 (0.050): 0.010*\"true\" + 0.007*\"house\" + 0.006*\"safety\" + 0.006*\"safe\" + 0.005*\"board\" + 0.005*\"white\" + 0.005*\"korea\" + 0.005*\"discuss\" + 0.005*\"lost\" + 0.005*\"large\"\n",
      "2018-03-01 16:50:53,999 : INFO : topic #4 (0.050): 0.009*\"flood\" + 0.008*\"county\" + 0.007*\"warning\" + 0.006*\"fatal\" + 0.005*\"love\" + 0.005*\"police\" + 0.005*\"cpac\" + 0.005*\"food\" + 0.005*\"woman\" + 0.005*\"home\"\n",
      "2018-03-01 16:50:54,002 : INFO : topic #13 (0.050): 0.012*\"thehill\" + 0.009*\"tax\" + 0.007*\"hour\" + 0.006*\"lindsey\" + 0.005*\"spurs\" + 0.005*\"vonn\" + 0.005*\"women\" + 0.004*\"final\" + 0.004*\"california\" + 0.004*\"community\"\n",
      "2018-03-01 16:50:54,004 : INFO : topic #17 (0.050): 0.007*\"madison\" + 0.007*\"doing\" + 0.006*\"ca\" + 0.005*\"study\" + 0.005*\"years\" + 0.005*\"convicted\" + 0.005*\"texas\" + 0.005*\"killer\" + 0.005*\"delta\" + 0.005*\"games\"\n",
      "2018-03-01 16:50:54,006 : INFO : topic diff=0.104644, rho=0.316228\n",
      "2018-03-01 16:50:54,014 : INFO : PROGRESS: pass 4, at document #8000/10000\n",
      "2018-03-01 16:50:54,697 : INFO : merging changes from 2000 documents into a model of 10000 documents\n",
      "2018-03-01 16:50:54,768 : INFO : topic #12 (0.050): 0.011*\"school\" + 0.010*\"traffic\" + 0.009*\"media\" + 0.008*\"high\" + 0.007*\"social\" + 0.007*\"student\" + 0.006*\"closed\" + 0.006*\"totaltrafficmsn\" + 0.005*\"delay\" + 0.005*\"dies\"\n",
      "2018-03-01 16:50:54,770 : INFO : topic #16 (0.050): 0.007*\"best\" + 0.007*\"today\" + 0.007*\"live\" + 0.005*\"needs\" + 0.005*\"rain\" + 0.005*\"ready\" + 0.005*\"stabbing\" + 0.005*\"connectingyou\" + 0.004*\"watch\" + 0.004*\"feb\"\n",
      "2018-03-01 16:50:54,771 : INFO : topic #11 (0.050): 0.008*\"red\" + 0.007*\"post\" + 0.007*\"lead\" + 0.006*\"closing\" + 0.006*\"happen\" + 0.006*\"friends\" + 0.005*\"discussion\" + 0.005*\"movie\" + 0.005*\"using\" + 0.004*\"fighting\"\n",
      "2018-03-01 16:50:54,776 : INFO : topic #17 (0.050): 0.009*\"district\" + 0.008*\"ca\" + 0.006*\"sabrina\" + 0.006*\"years\" + 0.006*\"doing\" + 0.005*\"sentenced\" + 0.005*\"limon\" + 0.005*\"madison\" + 0.005*\"prison\" + 0.004*\"study\"\n",
      "2018-03-01 16:50:54,778 : INFO : topic #0 (0.050): 0.007*\"heres\" + 0.006*\"tax\" + 0.006*\"weapons\" + 0.005*\"central\" + 0.005*\"stop\" + 0.005*\"country\" + 0.005*\"cancer\" + 0.005*\"armed\" + 0.005*\"starting\" + 0.004*\"club\"\n",
      "2018-03-01 16:50:54,780 : INFO : topic diff=0.124786, rho=0.316228\n",
      "2018-03-01 16:50:55,854 : INFO : -13.437 per-word bound, 11089.7 perplexity estimate based on a held-out corpus of 2000 documents with 5057 words\n",
      "2018-03-01 16:50:55,856 : INFO : PROGRESS: pass 4, at document #10000/10000\n",
      "2018-03-01 16:50:56,482 : INFO : merging changes from 2000 documents into a model of 10000 documents\n",
      "2018-03-01 16:50:56,551 : INFO : topic #0 (0.050): 0.007*\"stop\" + 0.007*\"ll\" + 0.006*\"heres\" + 0.006*\"marijuana\" + 0.006*\"country\" + 0.005*\"kushner\" + 0.005*\"central\" + 0.005*\"weapons\" + 0.005*\"gets\" + 0.005*\"cyrustoulabi\"\n",
      "2018-03-01 16:50:56,553 : INFO : topic #10 (0.050): 0.013*\"kmasports\" + 0.009*\"valley\" + 0.009*\"february\" + 0.008*\"listen\" + 0.008*\"bedford\" + 0.007*\"gold\" + 0.007*\"left\" + 0.006*\"nodaway\" + 0.005*\"olympic\" + 0.004*\"connectingyou\"\n",
      "2018-03-01 16:50:56,554 : INFO : topic #15 (0.050): 0.022*\"safetypindaily\" + 0.009*\"complicit\" + 0.008*\"teapainusa\" + 0.006*\"tell\" + 0.006*\"sad\" + 0.005*\"mfrs\" + 0.005*\"got\" + 0.005*\"s\" + 0.005*\"check\" + 0.004*\"block\"\n",
      "2018-03-01 16:50:56,556 : INFO : topic #17 (0.050): 0.008*\"ca\" + 0.007*\"doing\" + 0.006*\"presssec\" + 0.006*\"district\" + 0.006*\"wait\" + 0.005*\"dloesch\" + 0.005*\"years\" + 0.005*\"think\" + 0.004*\"nra\" + 0.004*\"sabrina\"\n",
      "2018-03-01 16:50:56,558 : INFO : topic #3 (0.050): 0.007*\"nra\" + 0.007*\"let\" + 0.006*\"awesome\" + 0.006*\"know\" + 0.006*\"think\" + 0.006*\"hockey\" + 0.006*\"support\" + 0.006*\"missing\" + 0.005*\"fedex\" + 0.005*\"way\"\n",
      "2018-03-01 16:50:56,559 : INFO : topic diff=0.114632, rho=0.316228\n"
     ]
    }
   ],
   "source": [
    "lda = models.LdaModel(corpus=corpus, num_topics=20, id2word=id2word, passes=5)"
   ]
  },
  {
   "cell_type": "code",
   "execution_count": 409,
   "metadata": {},
   "outputs": [
    {
     "name": "stderr",
     "output_type": "stream",
     "text": [
      "2018-03-01 16:50:56,568 : INFO : topic #0 (0.050): 0.007*\"stop\" + 0.007*\"ll\" + 0.006*\"heres\" + 0.006*\"marijuana\" + 0.006*\"country\" + 0.005*\"kushner\" + 0.005*\"central\" + 0.005*\"weapons\" + 0.005*\"gets\" + 0.005*\"cyrustoulabi\"\n",
      "2018-03-01 16:50:56,570 : INFO : topic #1 (0.050): 0.012*\"thank\" + 0.010*\"facts\" + 0.007*\"lot\" + 0.006*\"talking\" + 0.006*\"power\" + 0.005*\"better\" + 0.005*\"action\" + 0.005*\"pay\" + 0.004*\"great\" + 0.004*\"conspiracy\"\n",
      "2018-03-01 16:50:56,572 : INFO : topic #2 (0.050): 0.008*\"telemundopr\" + 0.008*\"america\" + 0.008*\"gracias\" + 0.006*\"corrupt\" + 0.005*\"thatisabot\" + 0.005*\"smith\" + 0.005*\"people\" + 0.005*\"heart\" + 0.004*\"ironstowe\" + 0.004*\"attack\"\n",
      "2018-03-01 16:50:56,573 : INFO : topic #3 (0.050): 0.007*\"nra\" + 0.007*\"let\" + 0.006*\"awesome\" + 0.006*\"know\" + 0.006*\"think\" + 0.006*\"hockey\" + 0.006*\"support\" + 0.006*\"missing\" + 0.005*\"fedex\" + 0.005*\"way\"\n",
      "2018-03-01 16:50:56,575 : INFO : topic #4 (0.050): 0.010*\"cpac\" + 0.008*\"love\" + 0.006*\"fascists\" + 0.006*\"hate\" + 0.005*\"irisrimon\" + 0.005*\"county\" + 0.005*\"daddy\" + 0.004*\"unions\" + 0.004*\"flood\" + 0.004*\"proud\"\n",
      "2018-03-01 16:50:56,577 : INFO : topic #5 (0.050): 0.011*\"irdotnet\" + 0.011*\"police\" + 0.010*\"yearold\" + 0.009*\"man\" + 0.009*\"hell\" + 0.007*\"connectingyou\" + 0.006*\"son\" + 0.006*\"war\" + 0.006*\"death\" + 0.006*\"school\"\n",
      "2018-03-01 16:50:56,579 : INFO : topic #6 (0.050): 0.011*\"good\" + 0.008*\"right\" + 0.008*\"werise\" + 0.007*\"banassaultweapons\" + 0.007*\"s\" + 0.007*\"dumptrump\" + 0.006*\"union\" + 0.006*\"kmanews\" + 0.006*\"thing\" + 0.005*\"knew\"\n",
      "2018-03-01 16:50:56,580 : INFO : topic #7 (0.050): 0.007*\"makes\" + 0.006*\"truth\" + 0.006*\"criminal\" + 0.006*\"dog\" + 0.005*\"trumps\" + 0.005*\"redtraccoon\" + 0.005*\"business\" + 0.005*\"know\" + 0.005*\"feel\" + 0.004*\"season\"\n",
      "2018-03-01 16:50:56,582 : INFO : topic #8 (0.050): 0.016*\"true\" + 0.007*\"agree\" + 0.006*\"government\" + 0.006*\"korea\" + 0.005*\"s\" + 0.005*\"safe\" + 0.005*\"disgusting\" + 0.005*\"house\" + 0.005*\"lost\" + 0.004*\"says\"\n",
      "2018-03-01 16:50:56,583 : INFO : topic #9 (0.050): 0.008*\"black\" + 0.007*\"st\" + 0.007*\"does\" + 0.007*\"thanks\" + 0.007*\"trumps\" + 0.006*\"msnbc\" + 0.006*\"court\" + 0.006*\"republicans\" + 0.005*\"supreme\" + 0.005*\"day\"\n",
      "2018-03-01 16:50:56,585 : INFO : topic #10 (0.050): 0.013*\"kmasports\" + 0.009*\"valley\" + 0.009*\"february\" + 0.008*\"listen\" + 0.008*\"bedford\" + 0.007*\"gold\" + 0.007*\"left\" + 0.006*\"nodaway\" + 0.005*\"olympic\" + 0.004*\"connectingyou\"\n",
      "2018-03-01 16:50:56,586 : INFO : topic #11 (0.050): 0.007*\"red\" + 0.007*\"post\" + 0.006*\"closing\" + 0.006*\"happen\" + 0.006*\"friends\" + 0.005*\"dearauntcrabby\" + 0.005*\"illegitimate\" + 0.005*\"fighting\" + 0.005*\"lead\" + 0.004*\"movie\"\n",
      "2018-03-01 16:50:56,588 : INFO : topic #12 (0.050): 0.008*\"school\" + 0.007*\"traffic\" + 0.007*\"high\" + 0.007*\"media\" + 0.006*\"stupidity\" + 0.006*\"social\" + 0.006*\"twitter\" + 0.006*\"dies\" + 0.006*\"stand\" + 0.005*\"making\"\n",
      "2018-03-01 16:50:56,589 : INFO : topic #13 (0.050): 0.026*\"thehill\" + 0.014*\"tax\" + 0.006*\"ve\" + 0.005*\"hour\" + 0.005*\"chicago\" + 0.005*\"women\" + 0.005*\"americans\" + 0.004*\"taxes\" + 0.004*\"california\" + 0.004*\"community\"\n",
      "2018-03-01 16:50:56,591 : INFO : topic #14 (0.050): 0.022*\"cnnpolitics\" + 0.011*\"trump\" + 0.009*\"cnn\" + 0.008*\"_\" + 0.007*\"theleadeditor\" + 0.006*\"d\" + 0.006*\"believe\" + 0.006*\"wh\" + 0.006*\"cj_disabledvet\" + 0.006*\"wtf\"\n",
      "2018-03-01 16:50:56,593 : INFO : topic #15 (0.050): 0.022*\"safetypindaily\" + 0.009*\"complicit\" + 0.008*\"teapainusa\" + 0.006*\"tell\" + 0.006*\"sad\" + 0.005*\"mfrs\" + 0.005*\"got\" + 0.005*\"s\" + 0.005*\"check\" + 0.004*\"block\"\n",
      "2018-03-01 16:50:56,595 : INFO : topic #16 (0.050): 0.007*\"best\" + 0.007*\"needs\" + 0.006*\"ready\" + 0.005*\"traitor\" + 0.005*\"sure\" + 0.005*\"today\" + 0.005*\"live\" + 0.004*\"tuesday\" + 0.004*\"monday\" + 0.004*\"rain\"\n",
      "2018-03-01 16:50:56,596 : INFO : topic #17 (0.050): 0.008*\"ca\" + 0.007*\"doing\" + 0.006*\"presssec\" + 0.006*\"district\" + 0.006*\"wait\" + 0.005*\"dloesch\" + 0.005*\"years\" + 0.005*\"think\" + 0.004*\"nra\" + 0.004*\"sabrina\"\n",
      "2018-03-01 16:50:56,598 : INFO : topic #18 (0.050): 0.011*\"joyannreid\" + 0.010*\"funder\" + 0.010*\"graham\" + 0.008*\"mueller\" + 0.006*\"running\" + 0.006*\"nice\" + 0.005*\"sister\" + 0.005*\"died\" + 0.004*\"sick\" + 0.004*\"congress\"\n",
      "2018-03-01 16:50:56,600 : INFO : topic #19 (0.050): 0.019*\"krassenstein\" + 0.016*\"edkrassen\" + 0.013*\"realdonaldtrump\" + 0.011*\"dwyer\" + 0.006*\"guns\" + 0.006*\"leads\" + 0.006*\"job\" + 0.006*\"iamororo\" + 0.005*\"guy\" + 0.005*\"fear\"\n"
     ]
    },
    {
     "data": {
      "text/plain": [
       "[(0,\n",
       "  '0.007*\"stop\" + 0.007*\"ll\" + 0.006*\"heres\" + 0.006*\"marijuana\" + 0.006*\"country\" + 0.005*\"kushner\" + 0.005*\"central\" + 0.005*\"weapons\" + 0.005*\"gets\" + 0.005*\"cyrustoulabi\"'),\n",
       " (1,\n",
       "  '0.012*\"thank\" + 0.010*\"facts\" + 0.007*\"lot\" + 0.006*\"talking\" + 0.006*\"power\" + 0.005*\"better\" + 0.005*\"action\" + 0.005*\"pay\" + 0.004*\"great\" + 0.004*\"conspiracy\"'),\n",
       " (2,\n",
       "  '0.008*\"telemundopr\" + 0.008*\"america\" + 0.008*\"gracias\" + 0.006*\"corrupt\" + 0.005*\"thatisabot\" + 0.005*\"smith\" + 0.005*\"people\" + 0.005*\"heart\" + 0.004*\"ironstowe\" + 0.004*\"attack\"'),\n",
       " (3,\n",
       "  '0.007*\"nra\" + 0.007*\"let\" + 0.006*\"awesome\" + 0.006*\"know\" + 0.006*\"think\" + 0.006*\"hockey\" + 0.006*\"support\" + 0.006*\"missing\" + 0.005*\"fedex\" + 0.005*\"way\"'),\n",
       " (4,\n",
       "  '0.010*\"cpac\" + 0.008*\"love\" + 0.006*\"fascists\" + 0.006*\"hate\" + 0.005*\"irisrimon\" + 0.005*\"county\" + 0.005*\"daddy\" + 0.004*\"unions\" + 0.004*\"flood\" + 0.004*\"proud\"'),\n",
       " (5,\n",
       "  '0.011*\"irdotnet\" + 0.011*\"police\" + 0.010*\"yearold\" + 0.009*\"man\" + 0.009*\"hell\" + 0.007*\"connectingyou\" + 0.006*\"son\" + 0.006*\"war\" + 0.006*\"death\" + 0.006*\"school\"'),\n",
       " (6,\n",
       "  '0.011*\"good\" + 0.008*\"right\" + 0.008*\"werise\" + 0.007*\"banassaultweapons\" + 0.007*\"s\" + 0.007*\"dumptrump\" + 0.006*\"union\" + 0.006*\"kmanews\" + 0.006*\"thing\" + 0.005*\"knew\"'),\n",
       " (7,\n",
       "  '0.007*\"makes\" + 0.006*\"truth\" + 0.006*\"criminal\" + 0.006*\"dog\" + 0.005*\"trumps\" + 0.005*\"redtraccoon\" + 0.005*\"business\" + 0.005*\"know\" + 0.005*\"feel\" + 0.004*\"season\"'),\n",
       " (8,\n",
       "  '0.016*\"true\" + 0.007*\"agree\" + 0.006*\"government\" + 0.006*\"korea\" + 0.005*\"s\" + 0.005*\"safe\" + 0.005*\"disgusting\" + 0.005*\"house\" + 0.005*\"lost\" + 0.004*\"says\"'),\n",
       " (9,\n",
       "  '0.008*\"black\" + 0.007*\"st\" + 0.007*\"does\" + 0.007*\"thanks\" + 0.007*\"trumps\" + 0.006*\"msnbc\" + 0.006*\"court\" + 0.006*\"republicans\" + 0.005*\"supreme\" + 0.005*\"day\"'),\n",
       " (10,\n",
       "  '0.013*\"kmasports\" + 0.009*\"valley\" + 0.009*\"february\" + 0.008*\"listen\" + 0.008*\"bedford\" + 0.007*\"gold\" + 0.007*\"left\" + 0.006*\"nodaway\" + 0.005*\"olympic\" + 0.004*\"connectingyou\"'),\n",
       " (11,\n",
       "  '0.007*\"red\" + 0.007*\"post\" + 0.006*\"closing\" + 0.006*\"happen\" + 0.006*\"friends\" + 0.005*\"dearauntcrabby\" + 0.005*\"illegitimate\" + 0.005*\"fighting\" + 0.005*\"lead\" + 0.004*\"movie\"'),\n",
       " (12,\n",
       "  '0.008*\"school\" + 0.007*\"traffic\" + 0.007*\"high\" + 0.007*\"media\" + 0.006*\"stupidity\" + 0.006*\"social\" + 0.006*\"twitter\" + 0.006*\"dies\" + 0.006*\"stand\" + 0.005*\"making\"'),\n",
       " (13,\n",
       "  '0.026*\"thehill\" + 0.014*\"tax\" + 0.006*\"ve\" + 0.005*\"hour\" + 0.005*\"chicago\" + 0.005*\"women\" + 0.005*\"americans\" + 0.004*\"taxes\" + 0.004*\"california\" + 0.004*\"community\"'),\n",
       " (14,\n",
       "  '0.022*\"cnnpolitics\" + 0.011*\"trump\" + 0.009*\"cnn\" + 0.008*\"_\" + 0.007*\"theleadeditor\" + 0.006*\"d\" + 0.006*\"believe\" + 0.006*\"wh\" + 0.006*\"cj_disabledvet\" + 0.006*\"wtf\"'),\n",
       " (15,\n",
       "  '0.022*\"safetypindaily\" + 0.009*\"complicit\" + 0.008*\"teapainusa\" + 0.006*\"tell\" + 0.006*\"sad\" + 0.005*\"mfrs\" + 0.005*\"got\" + 0.005*\"s\" + 0.005*\"check\" + 0.004*\"block\"'),\n",
       " (16,\n",
       "  '0.007*\"best\" + 0.007*\"needs\" + 0.006*\"ready\" + 0.005*\"traitor\" + 0.005*\"sure\" + 0.005*\"today\" + 0.005*\"live\" + 0.004*\"tuesday\" + 0.004*\"monday\" + 0.004*\"rain\"'),\n",
       " (17,\n",
       "  '0.008*\"ca\" + 0.007*\"doing\" + 0.006*\"presssec\" + 0.006*\"district\" + 0.006*\"wait\" + 0.005*\"dloesch\" + 0.005*\"years\" + 0.005*\"think\" + 0.004*\"nra\" + 0.004*\"sabrina\"'),\n",
       " (18,\n",
       "  '0.011*\"joyannreid\" + 0.010*\"funder\" + 0.010*\"graham\" + 0.008*\"mueller\" + 0.006*\"running\" + 0.006*\"nice\" + 0.005*\"sister\" + 0.005*\"died\" + 0.004*\"sick\" + 0.004*\"congress\"'),\n",
       " (19,\n",
       "  '0.019*\"krassenstein\" + 0.016*\"edkrassen\" + 0.013*\"realdonaldtrump\" + 0.011*\"dwyer\" + 0.006*\"guns\" + 0.006*\"leads\" + 0.006*\"job\" + 0.006*\"iamororo\" + 0.005*\"guy\" + 0.005*\"fear\"')]"
      ]
     },
     "execution_count": 409,
     "metadata": {},
     "output_type": "execute_result"
    }
   ],
   "source": [
    "lda.print_topics()"
   ]
  },
  {
   "cell_type": "code",
   "execution_count": 410,
   "metadata": {},
   "outputs": [],
   "source": [
    "def find_topic_dist(tweet_index):\n",
    "    print(rawtext[tweet_index], '\\n')\n",
    "    print(lda[corpus[tweet_index]])\n",
    "    topic = max(lda[corpus[tweet_index]], key=lambda x:x[1])\n",
    "    \n",
    "    return topic"
   ]
  },
  {
   "cell_type": "code",
   "execution_count": 411,
   "metadata": {},
   "outputs": [
    {
     "name": "stdout",
     "output_type": "stream",
     "text": [
      "WEATHER ALERT: Areal Flood Watch for Perry, Morgan, Athens, Washington, Jackson and Vinton County until 1:00pm Sunday. https://t.co/rER0n11LOI \n",
      "\n",
      "[(0, 0.010975678), (1, 0.010975678), (2, 0.010975678), (3, 0.010975678), (4, 0.3476652), (5, 0.32406038), (6, 0.010975678), (7, 0.010975678), (8, 0.010975678), (9, 0.010975678), (10, 0.010975678), (11, 0.010975678), (12, 0.010975678), (13, 0.010975678), (14, 0.010975679), (15, 0.010975678), (16, 0.14168784), (17, 0.010975678), (18, 0.010975678), (19, 0.010975678)]\n"
     ]
    },
    {
     "data": {
      "text/plain": [
       "(4, 0.3473345)"
      ]
     },
     "execution_count": 411,
     "metadata": {},
     "output_type": "execute_result"
    }
   ],
   "source": [
    "find_topic_dist(1000)"
   ]
  },
  {
   "cell_type": "code",
   "execution_count": 412,
   "metadata": {},
   "outputs": [],
   "source": [
    "import pyLDAvis.gensim\n",
    "\n",
    "pyLDAvis.enable_notebook()"
   ]
  },
  {
   "cell_type": "code",
   "execution_count": 413,
   "metadata": {},
   "outputs": [
    {
     "name": "stderr",
     "output_type": "stream",
     "text": [
      "2018-03-01 16:50:56,649 : INFO : adding document #0 to Dictionary(0 unique tokens: [])\n",
      "2018-03-01 16:50:56,724 : INFO : adding document #10000 to Dictionary(10000 unique tokens: ['correct', 'congress', 'act', 'administration', 'end']...)\n",
      "2018-03-01 16:50:56,764 : INFO : built Dictionary(15661 unique tokens: ['correct', 'congress', 'act', 'administration', 'end']...) from 15661 documents (total 15661 corpus positions)\n"
     ]
    },
    {
     "data": {
      "text/plain": [
       "15661"
      ]
     },
     "execution_count": 413,
     "metadata": {},
     "output_type": "execute_result"
    }
   ],
   "source": [
    "tokens = [i[0] for i in vectorizer.vocabulary_.items()]\n",
    "dictionary = corpora.Dictionary(np.array(tokens).reshape(-1, 1))\n",
    "len(dictionary)"
   ]
  },
  {
   "cell_type": "code",
   "execution_count": 414,
   "metadata": {},
   "outputs": [],
   "source": [
    "data = pyLDAvis.gensim.prepare(lda, corpus, dictionary)"
   ]
  },
  {
   "cell_type": "code",
   "execution_count": 438,
   "metadata": {},
   "outputs": [
    {
     "name": "stdout",
     "output_type": "stream",
     "text": [
      "\n",
      "Note: if you're in the IPython notebook, pyLDAvis.show() is not the best command\n",
      "      to use. Consider using pyLDAvis.display(), or pyLDAvis.enable_notebook().\n",
      "      See more information at http://pyLDAvis.github.io/quickstart.html .\n",
      "\n",
      "You must interrupt the kernel to end this command\n",
      "\n",
      "Serving to http://127.0.0.1:8891/    [Ctrl-C to exit]\n"
     ]
    },
    {
     "name": "stderr",
     "output_type": "stream",
     "text": [
      "127.0.0.1 - - [01/Mar/2018 17:12:01] \"GET / HTTP/1.1\" 200 -\n",
      "127.0.0.1 - - [01/Mar/2018 17:12:01] \"GET /LDAvis.css HTTP/1.1\" 200 -\n",
      "127.0.0.1 - - [01/Mar/2018 17:12:01] \"GET /d3.js HTTP/1.1\" 200 -\n",
      "127.0.0.1 - - [01/Mar/2018 17:12:01] \"GET /LDAvis.js HTTP/1.1\" 200 -\n"
     ]
    },
    {
     "name": "stdout",
     "output_type": "stream",
     "text": [
      "\n",
      "stopping Server...\n"
     ]
    }
   ],
   "source": [
    "pyLDAvis.show(data)"
   ]
  },
  {
   "cell_type": "markdown",
   "metadata": {},
   "source": [
    "## Try LSA with three dimensions for interpretability"
   ]
  },
  {
   "cell_type": "code",
   "execution_count": 441,
   "metadata": {},
   "outputs": [
    {
     "name": "stderr",
     "output_type": "stream",
     "text": [
      "2018-03-01 17:21:10,576 : INFO : using symmetric alpha at 0.3333333333333333\n",
      "2018-03-01 17:21:10,580 : INFO : using symmetric eta at 0.3333333333333333\n",
      "2018-03-01 17:21:10,585 : INFO : using serial LDA version on this node\n",
      "2018-03-01 17:21:10,825 : INFO : running online (multi-pass) LDA training, 3 topics, 5 passes over the supplied corpus of 10000 documents, updating model once every 2000 documents, evaluating perplexity every 10000 documents, iterating 50x with a convergence threshold of 0.001000\n",
      "2018-03-01 17:21:10,834 : INFO : PROGRESS: pass 0, at document #2000/10000\n",
      "2018-03-01 17:21:13,672 : INFO : merging changes from 2000 documents into a model of 10000 documents\n",
      "2018-03-01 17:21:13,703 : INFO : topic #0 (0.333): 0.006*\"tv\" + 0.004*\"county\" + 0.004*\"flood\" + 0.003*\"winter\" + 0.003*\"warning\" + 0.003*\"olympics\" + 0.003*\"pm\" + 0.003*\"man\" + 0.002*\"weather\" + 0.002*\"new\"\n",
      "2018-03-01 17:21:13,705 : INFO : topic #1 (0.333): 0.008*\"tv\" + 0.004*\"trump\" + 0.004*\"olympics\" + 0.004*\"youtube\" + 0.004*\"shooting\" + 0.004*\"school\" + 0.003*\"atlanta\" + 0.003*\"county\" + 0.003*\"winter\" + 0.003*\"team\"\n",
      "2018-03-01 17:21:13,706 : INFO : topic #2 (0.333): 0.011*\"tv\" + 0.004*\"police\" + 0.004*\"pm\" + 0.004*\"school\" + 0.003*\"county\" + 0.003*\"man\" + 0.003*\"yearold\" + 0.003*\"flood\" + 0.003*\"warning\" + 0.002*\"weather\"\n",
      "2018-03-01 17:21:13,708 : INFO : topic diff=2.174929, rho=1.000000\n",
      "2018-03-01 17:21:13,719 : INFO : PROGRESS: pass 0, at document #4000/10000\n",
      "2018-03-01 17:21:15,308 : INFO : merging changes from 2000 documents into a model of 10000 documents\n",
      "2018-03-01 17:21:15,358 : INFO : topic #0 (0.333): 0.003*\"county\" + 0.003*\"olympics\" + 0.003*\"s\" + 0.002*\"man\" + 0.002*\"winter\" + 0.002*\"charged\" + 0.002*\"new\" + 0.002*\"nra\" + 0.002*\"tv\" + 0.002*\"woman\"\n",
      "2018-03-01 17:21:15,359 : INFO : topic #1 (0.333): 0.005*\"trump\" + 0.004*\"youtube\" + 0.004*\"school\" + 0.004*\"olympics\" + 0.004*\"shooting\" + 0.003*\"team\" + 0.003*\"usa\" + 0.003*\"medal\" + 0.003*\"president\" + 0.002*\"tv\"\n",
      "2018-03-01 17:21:15,361 : INFO : topic #2 (0.333): 0.005*\"school\" + 0.004*\"police\" + 0.003*\"tv\" + 0.003*\"olympic\" + 0.003*\"youtube\" + 0.003*\"man\" + 0.003*\"yearold\" + 0.002*\"killed\" + 0.002*\"shooting\" + 0.002*\"live\"\n",
      "2018-03-01 17:21:15,363 : INFO : topic diff=0.517454, rho=0.707107\n",
      "2018-03-01 17:21:15,372 : INFO : PROGRESS: pass 0, at document #6000/10000\n",
      "2018-03-01 17:21:16,850 : INFO : merging changes from 2000 documents into a model of 10000 documents\n",
      "2018-03-01 17:21:16,902 : INFO : topic #0 (0.333): 0.003*\"amp\" + 0.002*\"s\" + 0.002*\"nra\" + 0.002*\"county\" + 0.002*\"house\" + 0.002*\"badgers\" + 0.002*\"cancer\" + 0.002*\"rd\" + 0.002*\"dog\" + 0.002*\"charged\"\n",
      "2018-03-01 17:21:16,904 : INFO : topic #1 (0.333): 0.006*\"trump\" + 0.004*\"school\" + 0.003*\"shooting\" + 0.003*\"president\" + 0.003*\"s\" + 0.003*\"usa\" + 0.002*\"florida\" + 0.002*\"students\" + 0.002*\"woman\" + 0.002*\"team\"\n",
      "2018-03-01 17:21:16,906 : INFO : topic #2 (0.333): 0.005*\"school\" + 0.003*\"police\" + 0.003*\"shooting\" + 0.003*\"gun\" + 0.002*\"man\" + 0.002*\"traffic\" + 0.002*\"yearold\" + 0.002*\"florida\" + 0.002*\"dies\" + 0.002*\"did\"\n",
      "2018-03-01 17:21:16,908 : INFO : topic diff=0.491076, rho=0.577350\n",
      "2018-03-01 17:21:16,918 : INFO : PROGRESS: pass 0, at document #8000/10000\n",
      "2018-03-01 17:21:18,741 : INFO : merging changes from 2000 documents into a model of 10000 documents\n",
      "2018-03-01 17:21:18,813 : INFO : topic #0 (0.333): 0.003*\"tax\" + 0.003*\"amp\" + 0.003*\"connectingyou\" + 0.003*\"valley\" + 0.002*\"kmasports\" + 0.002*\"banassaultweapons\" + 0.002*\"bedford\" + 0.002*\"nra\" + 0.002*\"s\" + 0.002*\"week\"\n",
      "2018-03-01 17:21:18,814 : INFO : topic #1 (0.333): 0.005*\"trump\" + 0.004*\"tax\" + 0.003*\"school\" + 0.003*\"s\" + 0.003*\"says\" + 0.002*\"connectingyou\" + 0.002*\"president\" + 0.002*\"youtube\" + 0.002*\"students\" + 0.002*\"trumps\"\n",
      "2018-03-01 17:21:18,816 : INFO : topic #2 (0.333): 0.005*\"school\" + 0.003*\"connectingyou\" + 0.002*\"live\" + 0.002*\"police\" + 0.002*\"did\" + 0.002*\"youtube\" + 0.002*\"update\" + 0.002*\"cpac\" + 0.002*\"district\" + 0.002*\"people\"\n",
      "2018-03-01 17:21:18,817 : INFO : topic diff=0.644688, rho=0.500000\n",
      "2018-03-01 17:21:20,908 : INFO : -11.419 per-word bound, 2737.5 perplexity estimate based on a held-out corpus of 2000 documents with 5057 words\n",
      "2018-03-01 17:21:20,910 : INFO : PROGRESS: pass 0, at document #10000/10000\n",
      "2018-03-01 17:21:22,596 : INFO : merging changes from 2000 documents into a model of 10000 documents\n",
      "2018-03-01 17:21:22,665 : INFO : topic #0 (0.333): 0.003*\"cnnpolitics\" + 0.003*\"s\" + 0.003*\"nra\" + 0.002*\"realdonaldtrump\" + 0.002*\"krassenstein\" + 0.002*\"edkrassen\" + 0.002*\"amp\" + 0.002*\"tax\" + 0.002*\"day\" + 0.001*\"telemundopr\"\n",
      "2018-03-01 17:21:22,667 : INFO : topic #1 (0.333): 0.007*\"trump\" + 0.005*\"thehill\" + 0.004*\"s\" + 0.003*\"safetypindaily\" + 0.003*\"president\" + 0.003*\"trumps\" + 0.002*\"true\" + 0.002*\"tax\" + 0.002*\"good\" + 0.002*\"says\"\n",
      "2018-03-01 17:21:22,670 : INFO : topic #2 (0.333): 0.003*\"school\" + 0.002*\"did\" + 0.002*\"police\" + 0.002*\"connectingyou\" + 0.002*\"people\" + 0.002*\"does\" + 0.002*\"live\" + 0.002*\"joyannreid\" + 0.002*\"man\" + 0.002*\"funder\"\n",
      "2018-03-01 17:21:22,671 : INFO : topic diff=0.559593, rho=0.447214\n",
      "2018-03-01 17:21:22,681 : INFO : PROGRESS: pass 1, at document #2000/10000\n",
      "2018-03-01 17:21:23,820 : INFO : merging changes from 2000 documents into a model of 10000 documents\n",
      "2018-03-01 17:21:23,891 : INFO : topic #0 (0.333): 0.003*\"nra\" + 0.002*\"s\" + 0.002*\"cnnpolitics\" + 0.002*\"winter\" + 0.002*\"weather\" + 0.002*\"pm\" + 0.002*\"county\" + 0.002*\"amp\" + 0.002*\"day\" + 0.002*\"tv\"\n",
      "2018-03-01 17:21:23,893 : INFO : topic #1 (0.333): 0.006*\"trump\" + 0.003*\"thehill\" + 0.003*\"s\" + 0.003*\"president\" + 0.003*\"tv\" + 0.002*\"school\" + 0.002*\"olympics\" + 0.002*\"shooting\" + 0.002*\"says\" + 0.002*\"safetypindaily\"\n",
      "2018-03-01 17:21:23,895 : INFO : topic #2 (0.333): 0.006*\"tv\" + 0.004*\"school\" + 0.003*\"police\" + 0.003*\"yearold\" + 0.003*\"man\" + 0.002*\"county\" + 0.002*\"shooting\" + 0.002*\"live\" + 0.002*\"did\" + 0.002*\"killed\"\n",
      "2018-03-01 17:21:23,897 : INFO : topic diff=0.383940, rho=0.377964\n",
      "2018-03-01 17:21:23,907 : INFO : PROGRESS: pass 1, at document #4000/10000\n",
      "2018-03-01 17:21:24,882 : INFO : merging changes from 2000 documents into a model of 10000 documents\n",
      "2018-03-01 17:21:24,934 : INFO : topic #0 (0.333): 0.003*\"s\" + 0.002*\"nra\" + 0.002*\"olympics\" + 0.002*\"county\" + 0.002*\"winter\" + 0.002*\"day\" + 0.002*\"weather\" + 0.002*\"amp\" + 0.002*\"things\" + 0.001*\"russian\"\n",
      "2018-03-01 17:21:24,936 : INFO : topic #1 (0.333): 0.006*\"trump\" + 0.003*\"president\" + 0.003*\"olympics\" + 0.003*\"school\" + 0.003*\"youtube\" + 0.003*\"s\" + 0.003*\"team\" + 0.003*\"shooting\" + 0.002*\"medal\" + 0.002*\"usa\"\n",
      "2018-03-01 17:21:24,938 : INFO : topic #2 (0.333): 0.005*\"school\" + 0.004*\"police\" + 0.004*\"tv\" + 0.003*\"yearold\" + 0.003*\"man\" + 0.003*\"youtube\" + 0.002*\"shooting\" + 0.002*\"county\" + 0.002*\"killed\" + 0.002*\"live\"\n",
      "2018-03-01 17:21:24,940 : INFO : topic diff=0.325500, rho=0.377964\n",
      "2018-03-01 17:21:24,949 : INFO : PROGRESS: pass 1, at document #6000/10000\n",
      "2018-03-01 17:21:25,898 : INFO : merging changes from 2000 documents into a model of 10000 documents\n",
      "2018-03-01 17:21:25,953 : INFO : topic #0 (0.333): 0.002*\"amp\" + 0.002*\"s\" + 0.002*\"nra\" + 0.002*\"weather\" + 0.002*\"stormtrack\" + 0.002*\"day\" + 0.002*\"house\" + 0.002*\"dog\" + 0.002*\"badgers\" + 0.002*\"winter\"\n",
      "2018-03-01 17:21:25,955 : INFO : topic #1 (0.333): 0.006*\"trump\" + 0.003*\"school\" + 0.003*\"s\" + 0.003*\"president\" + 0.003*\"shooting\" + 0.002*\"usa\" + 0.002*\"says\" + 0.002*\"trumps\" + 0.002*\"team\" + 0.002*\"olympics\"\n",
      "2018-03-01 17:21:25,958 : INFO : topic #2 (0.333): 0.005*\"school\" + 0.003*\"police\" + 0.003*\"man\" + 0.003*\"yearold\" + 0.003*\"shooting\" + 0.002*\"county\" + 0.002*\"tv\" + 0.002*\"traffic\" + 0.002*\"killed\" + 0.002*\"gun\"\n",
      "2018-03-01 17:21:25,960 : INFO : topic diff=0.317852, rho=0.377964\n",
      "2018-03-01 17:21:25,970 : INFO : PROGRESS: pass 1, at document #8000/10000\n",
      "2018-03-01 17:21:27,058 : INFO : merging changes from 2000 documents into a model of 10000 documents\n",
      "2018-03-01 17:21:27,120 : INFO : topic #0 (0.333): 0.003*\"kmasports\" + 0.003*\"amp\" + 0.002*\"tax\" + 0.002*\"valley\" + 0.002*\"nra\" + 0.002*\"banassaultweapons\" + 0.002*\"s\" + 0.002*\"bedford\" + 0.002*\"connectingyou\" + 0.002*\"day\"\n",
      "2018-03-01 17:21:27,122 : INFO : topic #1 (0.333): 0.006*\"trump\" + 0.003*\"tax\" + 0.003*\"s\" + 0.003*\"says\" + 0.002*\"school\" + 0.002*\"president\" + 0.002*\"trumps\" + 0.002*\"team\" + 0.002*\"students\" + 0.002*\"shooting\"\n",
      "2018-03-01 17:21:27,124 : INFO : topic #2 (0.333): 0.005*\"school\" + 0.004*\"connectingyou\" + 0.003*\"police\" + 0.002*\"live\" + 0.002*\"youtube\" + 0.002*\"man\" + 0.002*\"county\" + 0.002*\"yearold\" + 0.002*\"shooting\" + 0.002*\"did\"\n",
      "2018-03-01 17:21:27,126 : INFO : topic diff=0.400632, rho=0.377964\n",
      "2018-03-01 17:21:28,592 : INFO : -10.728 per-word bound, 1695.6 perplexity estimate based on a held-out corpus of 2000 documents with 5057 words\n",
      "2018-03-01 17:21:28,593 : INFO : PROGRESS: pass 1, at document #10000/10000\n",
      "2018-03-01 17:21:29,628 : INFO : merging changes from 2000 documents into a model of 10000 documents\n",
      "2018-03-01 17:21:29,693 : INFO : topic #0 (0.333): 0.003*\"cnnpolitics\" + 0.003*\"realdonaldtrump\" + 0.003*\"krassenstein\" + 0.003*\"s\" + 0.002*\"nra\" + 0.002*\"edkrassen\" + 0.002*\"amp\" + 0.002*\"telemundopr\" + 0.002*\"irdotnet\" + 0.002*\"dwyer\"\n",
      "2018-03-01 17:21:29,694 : INFO : topic #1 (0.333): 0.007*\"trump\" + 0.005*\"thehill\" + 0.004*\"s\" + 0.003*\"safetypindaily\" + 0.003*\"president\" + 0.003*\"trumps\" + 0.002*\"true\" + 0.002*\"tax\" + 0.002*\"says\" + 0.002*\"make\"\n",
      "2018-03-01 17:21:29,696 : INFO : topic #2 (0.333): 0.004*\"school\" + 0.003*\"police\" + 0.002*\"connectingyou\" + 0.002*\"man\" + 0.002*\"did\" + 0.002*\"yearold\" + 0.002*\"shooting\" + 0.002*\"people\" + 0.002*\"live\" + 0.002*\"does\"\n",
      "2018-03-01 17:21:29,697 : INFO : topic diff=0.362312, rho=0.377964\n",
      "2018-03-01 17:21:29,706 : INFO : PROGRESS: pass 2, at document #2000/10000\n",
      "2018-03-01 17:21:30,619 : INFO : merging changes from 2000 documents into a model of 10000 documents\n",
      "2018-03-01 17:21:30,680 : INFO : topic #0 (0.333): 0.002*\"nra\" + 0.002*\"pm\" + 0.002*\"cnnpolitics\" + 0.002*\"weather\" + 0.002*\"winter\" + 0.002*\"realdonaldtrump\" + 0.002*\"s\" + 0.002*\"krassenstein\" + 0.002*\"day\" + 0.002*\"amp\"\n",
      "2018-03-01 17:21:30,682 : INFO : topic #1 (0.333): 0.006*\"trump\" + 0.003*\"thehill\" + 0.003*\"s\" + 0.003*\"president\" + 0.002*\"tv\" + 0.002*\"olympics\" + 0.002*\"says\" + 0.002*\"school\" + 0.002*\"shooting\" + 0.002*\"safetypindaily\"\n",
      "2018-03-01 17:21:30,684 : INFO : topic #2 (0.333): 0.006*\"tv\" + 0.004*\"school\" + 0.004*\"police\" + 0.003*\"yearold\" + 0.003*\"man\" + 0.003*\"county\" + 0.003*\"shooting\" + 0.002*\"live\" + 0.002*\"killed\" + 0.002*\"youtube\"\n",
      "2018-03-01 17:21:30,685 : INFO : topic diff=0.316078, rho=0.353553\n",
      "2018-03-01 17:21:30,694 : INFO : PROGRESS: pass 2, at document #4000/10000\n",
      "2018-03-01 17:21:31,555 : INFO : merging changes from 2000 documents into a model of 10000 documents\n",
      "2018-03-01 17:21:31,611 : INFO : topic #0 (0.333): 0.002*\"s\" + 0.002*\"nra\" + 0.002*\"winter\" + 0.002*\"olympics\" + 0.002*\"weather\" + 0.002*\"day\" + 0.002*\"pm\" + 0.002*\"things\" + 0.002*\"county\" + 0.002*\"amp\"\n",
      "2018-03-01 17:21:31,613 : INFO : topic #1 (0.333): 0.006*\"trump\" + 0.003*\"president\" + 0.003*\"olympics\" + 0.003*\"s\" + 0.003*\"team\" + 0.003*\"medal\" + 0.003*\"school\" + 0.003*\"youtube\" + 0.002*\"usa\" + 0.002*\"shooting\"\n",
      "2018-03-01 17:21:31,615 : INFO : topic #2 (0.333): 0.005*\"school\" + 0.004*\"police\" + 0.004*\"tv\" + 0.003*\"man\" + 0.003*\"yearold\" + 0.003*\"youtube\" + 0.003*\"county\" + 0.003*\"shooting\" + 0.003*\"killed\" + 0.002*\"live\"\n",
      "2018-03-01 17:21:31,618 : INFO : topic diff=0.276008, rho=0.353553\n",
      "2018-03-01 17:21:31,629 : INFO : PROGRESS: pass 2, at document #6000/10000\n",
      "2018-03-01 17:21:32,507 : INFO : merging changes from 2000 documents into a model of 10000 documents\n",
      "2018-03-01 17:21:32,557 : INFO : topic #0 (0.333): 0.002*\"amp\" + 0.002*\"nra\" + 0.002*\"s\" + 0.002*\"stormtrack\" + 0.002*\"weather\" + 0.002*\"winter\" + 0.002*\"rain\" + 0.002*\"day\" + 0.002*\"badgers\" + 0.002*\"dog\"\n",
      "2018-03-01 17:21:32,560 : INFO : topic #1 (0.333): 0.007*\"trump\" + 0.003*\"s\" + 0.003*\"president\" + 0.003*\"school\" + 0.002*\"shooting\" + 0.002*\"trumps\" + 0.002*\"usa\" + 0.002*\"says\" + 0.002*\"olympics\" + 0.002*\"team\"\n",
      "2018-03-01 17:21:32,561 : INFO : topic #2 (0.333): 0.006*\"school\" + 0.004*\"police\" + 0.003*\"man\" + 0.003*\"shooting\" + 0.003*\"yearold\" + 0.003*\"county\" + 0.003*\"tv\" + 0.002*\"killed\" + 0.002*\"traffic\" + 0.002*\"death\"\n",
      "2018-03-01 17:21:32,563 : INFO : topic diff=0.277221, rho=0.353553\n",
      "2018-03-01 17:21:32,574 : INFO : PROGRESS: pass 2, at document #8000/10000\n",
      "2018-03-01 17:21:33,568 : INFO : merging changes from 2000 documents into a model of 10000 documents\n",
      "2018-03-01 17:21:33,630 : INFO : topic #0 (0.333): 0.003*\"kmasports\" + 0.002*\"amp\" + 0.002*\"tax\" + 0.002*\"valley\" + 0.002*\"rain\" + 0.002*\"nra\" + 0.002*\"banassaultweapons\" + 0.002*\"bedford\" + 0.002*\"s\" + 0.002*\"day\"\n",
      "2018-03-01 17:21:33,632 : INFO : topic #1 (0.333): 0.006*\"trump\" + 0.003*\"s\" + 0.003*\"tax\" + 0.003*\"says\" + 0.002*\"president\" + 0.002*\"school\" + 0.002*\"trumps\" + 0.002*\"team\" + 0.002*\"amp\" + 0.002*\"graham\"\n",
      "2018-03-01 17:21:33,634 : INFO : topic #2 (0.333): 0.006*\"school\" + 0.004*\"connectingyou\" + 0.003*\"police\" + 0.003*\"youtube\" + 0.003*\"man\" + 0.003*\"county\" + 0.002*\"live\" + 0.002*\"shooting\" + 0.002*\"yearold\" + 0.002*\"update\"\n",
      "2018-03-01 17:21:33,635 : INFO : topic diff=0.357404, rho=0.353553\n",
      "2018-03-01 17:21:34,832 : INFO : -10.640 per-word bound, 1595.2 perplexity estimate based on a held-out corpus of 2000 documents with 5057 words\n",
      "2018-03-01 17:21:34,834 : INFO : PROGRESS: pass 2, at document #10000/10000\n",
      "2018-03-01 17:21:35,679 : INFO : merging changes from 2000 documents into a model of 10000 documents\n",
      "2018-03-01 17:21:35,743 : INFO : topic #0 (0.333): 0.003*\"realdonaldtrump\" + 0.003*\"cnnpolitics\" + 0.003*\"krassenstein\" + 0.003*\"edkrassen\" + 0.002*\"s\" + 0.002*\"nra\" + 0.002*\"kmasports\" + 0.002*\"telemundopr\" + 0.002*\"irdotnet\" + 0.002*\"dwyer\"\n",
      "2018-03-01 17:21:35,745 : INFO : topic #1 (0.333): 0.007*\"trump\" + 0.005*\"thehill\" + 0.004*\"s\" + 0.003*\"safetypindaily\" + 0.003*\"trumps\" + 0.003*\"president\" + 0.002*\"says\" + 0.002*\"people\" + 0.002*\"true\" + 0.002*\"make\"\n",
      "2018-03-01 17:21:35,746 : INFO : topic #2 (0.333): 0.004*\"school\" + 0.003*\"police\" + 0.003*\"connectingyou\" + 0.002*\"man\" + 0.002*\"yearold\" + 0.002*\"shooting\" + 0.002*\"live\" + 0.002*\"did\" + 0.002*\"youtube\" + 0.002*\"county\"\n",
      "2018-03-01 17:21:35,748 : INFO : topic diff=0.323004, rho=0.353553\n",
      "2018-03-01 17:21:35,756 : INFO : PROGRESS: pass 3, at document #2000/10000\n",
      "2018-03-01 17:21:36,582 : INFO : merging changes from 2000 documents into a model of 10000 documents\n",
      "2018-03-01 17:21:36,643 : INFO : topic #0 (0.333): 0.002*\"pm\" + 0.002*\"nra\" + 0.002*\"weather\" + 0.002*\"realdonaldtrump\" + 0.002*\"winter\" + 0.002*\"cnnpolitics\" + 0.002*\"krassenstein\" + 0.002*\"s\" + 0.002*\"edkrassen\" + 0.002*\"day\"\n",
      "2018-03-01 17:21:36,645 : INFO : topic #1 (0.333): 0.006*\"trump\" + 0.003*\"s\" + 0.003*\"thehill\" + 0.003*\"president\" + 0.002*\"olympics\" + 0.002*\"says\" + 0.002*\"tv\" + 0.002*\"team\" + 0.002*\"trumps\" + 0.002*\"safetypindaily\"\n",
      "2018-03-01 17:21:36,646 : INFO : topic #2 (0.333): 0.007*\"tv\" + 0.005*\"school\" + 0.004*\"police\" + 0.003*\"county\" + 0.003*\"man\" + 0.003*\"yearold\" + 0.003*\"shooting\" + 0.002*\"youtube\" + 0.002*\"killed\" + 0.002*\"live\"\n",
      "2018-03-01 17:21:36,648 : INFO : topic diff=0.285015, rho=0.333333\n",
      "2018-03-01 17:21:36,658 : INFO : PROGRESS: pass 3, at document #4000/10000\n",
      "2018-03-01 17:21:37,465 : INFO : merging changes from 2000 documents into a model of 10000 documents\n",
      "2018-03-01 17:21:37,517 : INFO : topic #0 (0.333): 0.002*\"s\" + 0.002*\"nra\" + 0.002*\"winter\" + 0.002*\"weather\" + 0.002*\"pm\" + 0.002*\"rain\" + 0.002*\"day\" + 0.002*\"olympics\" + 0.002*\"stormtrack\" + 0.002*\"things\"\n",
      "2018-03-01 17:21:37,519 : INFO : topic #1 (0.333): 0.006*\"trump\" + 0.003*\"olympics\" + 0.003*\"president\" + 0.003*\"s\" + 0.003*\"team\" + 0.003*\"medal\" + 0.002*\"usa\" + 0.002*\"gold\" + 0.002*\"says\" + 0.002*\"thehill\"\n",
      "2018-03-01 17:21:37,521 : INFO : topic #2 (0.333): 0.005*\"school\" + 0.005*\"police\" + 0.004*\"tv\" + 0.004*\"man\" + 0.003*\"yearold\" + 0.003*\"county\" + 0.003*\"youtube\" + 0.003*\"shooting\" + 0.003*\"killed\" + 0.002*\"live\"\n",
      "2018-03-01 17:21:37,524 : INFO : topic diff=0.248834, rho=0.333333\n",
      "2018-03-01 17:21:37,534 : INFO : PROGRESS: pass 3, at document #6000/10000\n",
      "2018-03-01 17:21:38,374 : INFO : merging changes from 2000 documents into a model of 10000 documents\n",
      "2018-03-01 17:21:38,425 : INFO : topic #0 (0.333): 0.002*\"amp\" + 0.002*\"nra\" + 0.002*\"weather\" + 0.002*\"s\" + 0.002*\"stormtrack\" + 0.002*\"rain\" + 0.002*\"winter\" + 0.002*\"day\" + 0.002*\"badgers\" + 0.002*\"dog\"\n",
      "2018-03-01 17:21:38,426 : INFO : topic #1 (0.333): 0.007*\"trump\" + 0.003*\"s\" + 0.003*\"president\" + 0.003*\"school\" + 0.003*\"trumps\" + 0.002*\"says\" + 0.002*\"olympics\" + 0.002*\"usa\" + 0.002*\"gold\" + 0.002*\"shooting\"\n",
      "2018-03-01 17:21:38,428 : INFO : topic #2 (0.333): 0.006*\"school\" + 0.004*\"police\" + 0.004*\"man\" + 0.003*\"shooting\" + 0.003*\"county\" + 0.003*\"yearold\" + 0.003*\"tv\" + 0.003*\"killed\" + 0.002*\"death\" + 0.002*\"charged\"\n",
      "2018-03-01 17:21:38,431 : INFO : topic diff=0.251870, rho=0.333333\n",
      "2018-03-01 17:21:38,441 : INFO : PROGRESS: pass 3, at document #8000/10000\n",
      "2018-03-01 17:21:39,337 : INFO : merging changes from 2000 documents into a model of 10000 documents\n",
      "2018-03-01 17:21:39,397 : INFO : topic #0 (0.333): 0.003*\"kmasports\" + 0.002*\"rain\" + 0.002*\"tax\" + 0.002*\"valley\" + 0.002*\"amp\" + 0.002*\"banassaultweapons\" + 0.002*\"nra\" + 0.002*\"day\" + 0.002*\"bedford\" + 0.002*\"s\"\n",
      "2018-03-01 17:21:39,399 : INFO : topic #1 (0.333): 0.006*\"trump\" + 0.003*\"s\" + 0.003*\"tax\" + 0.003*\"says\" + 0.002*\"president\" + 0.002*\"trumps\" + 0.002*\"amp\" + 0.002*\"school\" + 0.002*\"team\" + 0.002*\"people\"\n",
      "2018-03-01 17:21:39,401 : INFO : topic #2 (0.333): 0.006*\"school\" + 0.004*\"connectingyou\" + 0.004*\"police\" + 0.003*\"county\" + 0.003*\"man\" + 0.003*\"youtube\" + 0.003*\"shooting\" + 0.003*\"live\" + 0.002*\"yearold\" + 0.002*\"tv\"\n",
      "2018-03-01 17:21:39,403 : INFO : topic diff=0.326665, rho=0.333333\n",
      "2018-03-01 17:21:40,596 : INFO : -10.582 per-word bound, 1533.1 perplexity estimate based on a held-out corpus of 2000 documents with 5057 words\n",
      "2018-03-01 17:21:40,597 : INFO : PROGRESS: pass 3, at document #10000/10000\n",
      "2018-03-01 17:21:41,373 : INFO : merging changes from 2000 documents into a model of 10000 documents\n",
      "2018-03-01 17:21:41,435 : INFO : topic #0 (0.333): 0.003*\"krassenstein\" + 0.003*\"realdonaldtrump\" + 0.003*\"cnnpolitics\" + 0.003*\"edkrassen\" + 0.002*\"nra\" + 0.002*\"s\" + 0.002*\"kmasports\" + 0.002*\"telemundopr\" + 0.002*\"irdotnet\" + 0.002*\"dwyer\"\n",
      "2018-03-01 17:21:41,437 : INFO : topic #1 (0.333): 0.007*\"trump\" + 0.004*\"thehill\" + 0.004*\"s\" + 0.003*\"trumps\" + 0.003*\"safetypindaily\" + 0.003*\"president\" + 0.002*\"people\" + 0.002*\"says\" + 0.002*\"nra\" + 0.002*\"make\"\n",
      "2018-03-01 17:21:41,439 : INFO : topic #2 (0.333): 0.005*\"school\" + 0.003*\"police\" + 0.003*\"connectingyou\" + 0.003*\"man\" + 0.002*\"shooting\" + 0.002*\"yearold\" + 0.002*\"county\" + 0.002*\"youtube\" + 0.002*\"live\" + 0.002*\"high\"\n",
      "2018-03-01 17:21:41,440 : INFO : topic diff=0.296231, rho=0.333333\n",
      "2018-03-01 17:21:41,449 : INFO : PROGRESS: pass 4, at document #2000/10000\n",
      "2018-03-01 17:21:42,268 : INFO : merging changes from 2000 documents into a model of 10000 documents\n",
      "2018-03-01 17:21:42,326 : INFO : topic #0 (0.333): 0.003*\"pm\" + 0.002*\"weather\" + 0.002*\"nra\" + 0.002*\"realdonaldtrump\" + 0.002*\"krassenstein\" + 0.002*\"winter\" + 0.002*\"cnnpolitics\" + 0.002*\"edkrassen\" + 0.002*\"s\" + 0.002*\"day\"\n",
      "2018-03-01 17:21:42,328 : INFO : topic #1 (0.333): 0.006*\"trump\" + 0.003*\"s\" + 0.003*\"thehill\" + 0.003*\"president\" + 0.002*\"olympics\" + 0.002*\"says\" + 0.002*\"trumps\" + 0.002*\"team\" + 0.002*\"safetypindaily\" + 0.002*\"gold\"\n",
      "2018-03-01 17:21:42,329 : INFO : topic #2 (0.333): 0.007*\"tv\" + 0.005*\"school\" + 0.004*\"police\" + 0.004*\"county\" + 0.004*\"man\" + 0.003*\"yearold\" + 0.003*\"shooting\" + 0.003*\"youtube\" + 0.002*\"killed\" + 0.002*\"live\"\n",
      "2018-03-01 17:21:42,331 : INFO : topic diff=0.264148, rho=0.316228\n",
      "2018-03-01 17:21:42,339 : INFO : PROGRESS: pass 4, at document #4000/10000\n",
      "2018-03-01 17:21:43,062 : INFO : merging changes from 2000 documents into a model of 10000 documents\n",
      "2018-03-01 17:21:43,112 : INFO : topic #0 (0.333): 0.002*\"nra\" + 0.002*\"s\" + 0.002*\"weather\" + 0.002*\"winter\" + 0.002*\"rain\" + 0.002*\"pm\" + 0.002*\"day\" + 0.002*\"stormtrack\" + 0.002*\"things\" + 0.002*\"realdonaldtrump\"\n",
      "2018-03-01 17:21:43,113 : INFO : topic #1 (0.333): 0.006*\"trump\" + 0.003*\"s\" + 0.003*\"olympics\" + 0.003*\"president\" + 0.003*\"team\" + 0.003*\"medal\" + 0.002*\"gold\" + 0.002*\"thehill\" + 0.002*\"usa\" + 0.002*\"says\"\n",
      "2018-03-01 17:21:43,115 : INFO : topic #2 (0.333): 0.006*\"school\" + 0.005*\"police\" + 0.005*\"tv\" + 0.004*\"man\" + 0.004*\"county\" + 0.003*\"yearold\" + 0.003*\"youtube\" + 0.003*\"shooting\" + 0.003*\"killed\" + 0.002*\"live\"\n",
      "2018-03-01 17:21:43,116 : INFO : topic diff=0.229518, rho=0.316228\n",
      "2018-03-01 17:21:43,125 : INFO : PROGRESS: pass 4, at document #6000/10000\n",
      "2018-03-01 17:21:43,862 : INFO : merging changes from 2000 documents into a model of 10000 documents\n",
      "2018-03-01 17:21:43,910 : INFO : topic #0 (0.333): 0.002*\"rain\" + 0.002*\"weather\" + 0.002*\"nra\" + 0.002*\"stormtrack\" + 0.002*\"amp\" + 0.002*\"s\" + 0.002*\"day\" + 0.002*\"winter\" + 0.002*\"dog\" + 0.002*\"badgers\"\n",
      "2018-03-01 17:21:43,912 : INFO : topic #1 (0.333): 0.007*\"trump\" + 0.003*\"s\" + 0.003*\"president\" + 0.003*\"trumps\" + 0.003*\"olympics\" + 0.002*\"gold\" + 0.002*\"says\" + 0.002*\"school\" + 0.002*\"usa\" + 0.002*\"team\"\n",
      "2018-03-01 17:21:43,914 : INFO : topic #2 (0.333): 0.006*\"school\" + 0.004*\"police\" + 0.004*\"man\" + 0.004*\"shooting\" + 0.004*\"county\" + 0.003*\"tv\" + 0.003*\"yearold\" + 0.003*\"killed\" + 0.002*\"charged\" + 0.002*\"youtube\"\n",
      "2018-03-01 17:21:43,916 : INFO : topic diff=0.233195, rho=0.316228\n",
      "2018-03-01 17:21:43,926 : INFO : PROGRESS: pass 4, at document #8000/10000\n",
      "2018-03-01 17:21:44,809 : INFO : merging changes from 2000 documents into a model of 10000 documents\n",
      "2018-03-01 17:21:44,868 : INFO : topic #0 (0.333): 0.003*\"kmasports\" + 0.003*\"rain\" + 0.002*\"valley\" + 0.002*\"tax\" + 0.002*\"amp\" + 0.002*\"banassaultweapons\" + 0.002*\"nra\" + 0.002*\"day\" + 0.002*\"bedford\" + 0.002*\"week\"\n",
      "2018-03-01 17:21:44,870 : INFO : topic #1 (0.333): 0.006*\"trump\" + 0.003*\"s\" + 0.003*\"tax\" + 0.003*\"says\" + 0.002*\"president\" + 0.002*\"amp\" + 0.002*\"trumps\" + 0.002*\"people\" + 0.002*\"team\" + 0.002*\"graham\"\n",
      "2018-03-01 17:21:44,871 : INFO : topic #2 (0.333): 0.006*\"school\" + 0.004*\"connectingyou\" + 0.004*\"police\" + 0.003*\"county\" + 0.003*\"man\" + 0.003*\"youtube\" + 0.003*\"shooting\" + 0.002*\"live\" + 0.002*\"yearold\" + 0.002*\"tv\"\n",
      "2018-03-01 17:21:44,873 : INFO : topic diff=0.303431, rho=0.316228\n",
      "2018-03-01 17:21:46,086 : INFO : -10.539 per-word bound, 1487.8 perplexity estimate based on a held-out corpus of 2000 documents with 5057 words\n",
      "2018-03-01 17:21:46,088 : INFO : PROGRESS: pass 4, at document #10000/10000\n",
      "2018-03-01 17:21:46,940 : INFO : merging changes from 2000 documents into a model of 10000 documents\n",
      "2018-03-01 17:21:47,007 : INFO : topic #0 (0.333): 0.003*\"krassenstein\" + 0.003*\"realdonaldtrump\" + 0.003*\"cnnpolitics\" + 0.003*\"edkrassen\" + 0.002*\"nra\" + 0.002*\"kmasports\" + 0.002*\"s\" + 0.002*\"telemundopr\" + 0.002*\"irdotnet\" + 0.002*\"dwyer\"\n",
      "2018-03-01 17:21:47,008 : INFO : topic #1 (0.333): 0.007*\"trump\" + 0.004*\"thehill\" + 0.004*\"s\" + 0.003*\"trumps\" + 0.003*\"safetypindaily\" + 0.003*\"president\" + 0.002*\"people\" + 0.002*\"says\" + 0.002*\"nra\" + 0.002*\"amp\"\n",
      "2018-03-01 17:21:47,010 : INFO : topic #2 (0.333): 0.005*\"school\" + 0.004*\"police\" + 0.003*\"connectingyou\" + 0.003*\"man\" + 0.003*\"shooting\" + 0.002*\"county\" + 0.002*\"yearold\" + 0.002*\"youtube\" + 0.002*\"live\" + 0.002*\"high\"\n",
      "2018-03-01 17:21:47,013 : INFO : topic diff=0.276256, rho=0.316228\n"
     ]
    }
   ],
   "source": [
    "lda = models.LdaModel(corpus=corpus, num_topics=3, id2word=id2word, passes=5)"
   ]
  },
  {
   "cell_type": "code",
   "execution_count": 442,
   "metadata": {},
   "outputs": [
    {
     "name": "stderr",
     "output_type": "stream",
     "text": [
      "2018-03-01 17:22:27,054 : INFO : topic #0 (0.333): 0.003*\"krassenstein\" + 0.003*\"realdonaldtrump\" + 0.003*\"cnnpolitics\" + 0.003*\"edkrassen\" + 0.002*\"nra\" + 0.002*\"kmasports\" + 0.002*\"s\" + 0.002*\"telemundopr\" + 0.002*\"irdotnet\" + 0.002*\"dwyer\"\n",
      "2018-03-01 17:22:27,057 : INFO : topic #1 (0.333): 0.007*\"trump\" + 0.004*\"thehill\" + 0.004*\"s\" + 0.003*\"trumps\" + 0.003*\"safetypindaily\" + 0.003*\"president\" + 0.002*\"people\" + 0.002*\"says\" + 0.002*\"nra\" + 0.002*\"amp\"\n",
      "2018-03-01 17:22:27,059 : INFO : topic #2 (0.333): 0.005*\"school\" + 0.004*\"police\" + 0.003*\"connectingyou\" + 0.003*\"man\" + 0.003*\"shooting\" + 0.002*\"county\" + 0.002*\"yearold\" + 0.002*\"youtube\" + 0.002*\"live\" + 0.002*\"high\"\n"
     ]
    },
    {
     "data": {
      "text/plain": [
       "[(0,\n",
       "  '0.003*\"krassenstein\" + 0.003*\"realdonaldtrump\" + 0.003*\"cnnpolitics\" + 0.003*\"edkrassen\" + 0.002*\"nra\" + 0.002*\"kmasports\" + 0.002*\"s\" + 0.002*\"telemundopr\" + 0.002*\"irdotnet\" + 0.002*\"dwyer\"'),\n",
       " (1,\n",
       "  '0.007*\"trump\" + 0.004*\"thehill\" + 0.004*\"s\" + 0.003*\"trumps\" + 0.003*\"safetypindaily\" + 0.003*\"president\" + 0.002*\"people\" + 0.002*\"says\" + 0.002*\"nra\" + 0.002*\"amp\"'),\n",
       " (2,\n",
       "  '0.005*\"school\" + 0.004*\"police\" + 0.003*\"connectingyou\" + 0.003*\"man\" + 0.003*\"shooting\" + 0.002*\"county\" + 0.002*\"yearold\" + 0.002*\"youtube\" + 0.002*\"live\" + 0.002*\"high\"')]"
      ]
     },
     "execution_count": 442,
     "metadata": {},
     "output_type": "execute_result"
    }
   ],
   "source": [
    "lda.print_topics()"
   ]
  },
  {
   "cell_type": "code",
   "execution_count": 445,
   "metadata": {},
   "outputs": [],
   "source": [
    "topic_distributions = [lda[i] for i in corpus]"
   ]
  },
  {
   "cell_type": "code",
   "execution_count": 449,
   "metadata": {},
   "outputs": [],
   "source": [
    "topic_a = [i[0][1] for i in topic_distributions]\n",
    "topic_b = [i[1][1] for i in topic_distributions]\n",
    "topic_c = [i[2][1] for i in topic_distributions]"
   ]
  },
  {
   "cell_type": "code",
   "execution_count": 451,
   "metadata": {},
   "outputs": [],
   "source": [
    "topic_list = [[a, b, c] for (a, b, c) in zip(topic_a, topic_b, topic_c)]"
   ]
  },
  {
   "cell_type": "code",
   "execution_count": 453,
   "metadata": {},
   "outputs": [
    {
     "data": {
      "text/plain": [
       "[[0.12417443, 0.5367311, 0.33909443],\n",
       " [0.0751728, 0.8151964, 0.10963078],\n",
       " [0.104571864, 0.105776526, 0.7896516],\n",
       " [0.15567283, 0.17918168, 0.66514546],\n",
       " [0.41244277, 0.12636827, 0.46118894],\n",
       " [0.73849607, 0.16247146, 0.09903249],\n",
       " [0.07420056, 0.72991043, 0.19588897],\n",
       " [0.17152429, 0.65696836, 0.17150733],\n",
       " [0.7068675, 0.1608255, 0.13230692],\n",
       " [0.33333334, 0.33333334, 0.33333334]]"
      ]
     },
     "execution_count": 453,
     "metadata": {},
     "output_type": "execute_result"
    }
   ],
   "source": [
    "topic_list[:10]"
   ]
  },
  {
   "cell_type": "code",
   "execution_count": 454,
   "metadata": {},
   "outputs": [],
   "source": [
    "pca = PCA(n_components=2)\n",
    "pca.fit(topic_list)\n",
    "pcafeatures_train = pca.transform(topic_list)"
   ]
  },
  {
   "cell_type": "code",
   "execution_count": 462,
   "metadata": {},
   "outputs": [],
   "source": [
    "x = [i[0] for i in pcafeatures_train]\n",
    "y = [i[1] for i in pcafeatures_train]"
   ]
  },
  {
   "cell_type": "code",
   "execution_count": 463,
   "metadata": {},
   "outputs": [
    {
     "data": {
      "text/plain": [
       "<matplotlib.collections.PathCollection at 0x125935f60>"
      ]
     },
     "execution_count": 463,
     "metadata": {},
     "output_type": "execute_result"
    },
    {
     "data": {
      "image/png": "[encoded data removed]",
      "text/plain": [
       "<matplotlib.figure.Figure at 0x125931a20>"
      ]
     },
     "metadata": {},
     "output_type": "display_data"
    }
   ],
   "source": [
    "plt.scatter(x, y)"
   ]
  },
  {
   "cell_type": "code",
   "execution_count": 456,
   "metadata": {},
   "outputs": [],
   "source": [
    "from itertools import cycle\n",
    "\n",
    "def plot_PCA_2D(data, target, target_names):\n",
    "    colors = cycle(['r','g','b','c','m','y','orange','w','aqua','yellow'])\n",
    "    target_ids = range(len(target_names))\n",
    "    plt.figure(figsize=(10,10))\n",
    "    for i, c, label in zip(target_ids, colors, target_names):\n",
    "        plt.scatter(data[target == i, 0], data[target == i, 1],\n",
    "                   c=c, label=label, edgecolors='gray')\n",
    "    plt.legend()"
   ]
  },
  {
   "cell_type": "code",
   "execution_count": null,
   "metadata": {},
   "outputs": [],
   "source": [
    "plot_PCA_2D(pcafeatures_train, target_names=digits.target_names)"
   ]
  },
  {
   "cell_type": "code",
   "execution_count": 427,
   "metadata": {},
   "outputs": [],
   "source": [
    "import matplotlib.pyplot as plt\n",
    "\n",
    "% matplotlib inline "
   ]
  },
  {
   "cell_type": "code",
   "execution_count": 436,
   "metadata": {},
   "outputs": [
    {
     "data": {
      "text/plain": [
       "<matplotlib.collections.PathCollection at 0x124549358>"
      ]
     },
     "execution_count": 436,
     "metadata": {},
     "output_type": "execute_result"
    },
    {
     "data": {
      "image/png": "[encoded data removed]",
      "text/plain": [
       "<matplotlib.figure.Figure at 0x125158ba8>"
      ]
     },
     "metadata": {},
     "output_type": "display_data"
    }
   ],
   "source": [
    "plt.scatter(topic_x, topic_y)"
   ]
  },
  {
   "cell_type": "markdown",
   "metadata": {},
   "source": [
    "## Try LSA"
   ]
  },
  {
   "cell_type": "code",
   "execution_count": 251,
   "metadata": {},
   "outputs": [],
   "source": [
    "lsa = TruncatedSVD(10, algorithm = 'arpack')\n",
    "dtm_lsa = lsa.fit_transform(counts)\n",
    "dtm_lsa = Normalizer(copy=False).fit_transform(dtm_lsa)\n"
   ]
  },
  {
   "cell_type": "code",
   "execution_count": 252,
   "metadata": {},
   "outputs": [
    {
     "data": {
      "text/plain": [
       "array([0.00500755, 0.00360424, 0.0033963 , 0.00306783, 0.00299824,\n",
       "       0.00250967, 0.00248485, 0.00231181, 0.00225991, 0.00218691])"
      ]
     },
     "execution_count": 252,
     "metadata": {},
     "output_type": "execute_result"
    }
   ],
   "source": [
    "lsa.explained_variance_ratio_\n"
   ]
  },
  {
   "cell_type": "code",
   "execution_count": 253,
   "metadata": {},
   "outputs": [],
   "source": [
    "def display_topics(model, feature_names, no_top_words, topic_names=None):\n",
    "    for ix, topic in enumerate(model.components_):\n",
    "        if not topic_names or not topic_names[ix]:\n",
    "            print(\"\\nTopic \", ix)\n",
    "        else:\n",
    "            print(\"\\nTopic: '\",topic_names[ix],\"'\")\n",
    "        print(\", \".join([feature_names[i]\n",
    "                        for i in topic.argsort()[:-no_top_words - 1:-1]]))"
   ]
  },
  {
   "cell_type": "code",
   "execution_count": 254,
   "metadata": {},
   "outputs": [
    {
     "name": "stdout",
     "output_type": "stream",
     "text": [
      "\n",
      "Topic  0\n",
      "apprenticeships, detention, cole, dwindling, developer, northbound, nonunion, nokias, attend, conscience\n",
      "\n",
      "Topic  1\n",
      "northbound, nonunion, nokias, encourages, endured, billy, blade, ems, bitcoins, conor\n",
      "\n",
      "Topic  2\n",
      "ave, automated, avenger, automatic, authorities, auctioned, aurora, awaiting, audition, atlantas\n",
      "\n",
      "Topic  3\n",
      "djb, dna, complicated, divorce, dm, flavors, cut, btwtrumporangutan, brook, cybercrime\n",
      "\n",
      "Topic  4\n",
      "cdwi, caught, audience, explainer, castle, celebration, exports, extortion, attempt, birthed\n",
      "\n",
      "Topic  5\n",
      "chimera, christian, circus, farmworker, fan, city, christopher, chocoharveymilk, analogies, dow\n",
      "\n",
      "Topic  6\n",
      "dog, educating, dogg, arraignments, compassion, coffees, deport, appeals, depositing, dummies\n",
      "\n",
      "Topic  7\n",
      "bruiser_ahdmascot, bombs, bot, bosses, bookstagram, border, boxes, crystal, crushed, boycotnra\n",
      "\n",
      "Topic  8\n",
      "bookstagram, boycotnra, bosses, crystal, border, boxes, crushed, bot, dystopian, colors\n",
      "\n",
      "Topic  9\n",
      "bennyv, emmagonzales, crewcrew, employed, embarrassment, beers, bicyclist, booked, boilits, bobbing\n"
     ]
    }
   ],
   "source": [
    "display_topics(lsa, vectorizer.get_feature_names(), 10)"
   ]
  },
  {
   "cell_type": "markdown",
   "metadata": {},
   "source": [
    "## Try PCA"
   ]
  },
  {
   "cell_type": "code",
   "execution_count": null,
   "metadata": {},
   "outputs": [],
   "source": []
  }
 ],
 "metadata": {
  "kernelspec": {
   "display_name": "Python 3",
   "language": "python",
   "name": "python3"
  },
  "language_info": {
   "codemirror_mode": {
    "name": "ipython",
    "version": 3
   },
   "file_extension": ".py",
   "mimetype": "text/x-python",
   "name": "python",
   "nbconvert_exporter": "python",
   "pygments_lexer": "ipython3",
   "version": "3.6.3"
  },
  "toc": {
   "nav_menu": {},
   "number_sections": true,
   "sideBar": true,
   "skip_h1_title": false,
   "title_cell": "Table of Contents",
   "title_sidebar": "Contents",
   "toc_cell": false,
   "toc_position": {},
   "toc_section_display": true,
   "toc_window_display": false
  },
  "varInspector": {
   "cols": {
    "lenName": 16,
    "lenType": 16,
    "lenVar": 40
   },
   "kernels_config": {
    "python": {
     "delete_cmd_postfix": "",
     "delete_cmd_prefix": "del ",
     "library": "var_list.py",
     "varRefreshCmd": "print(var_dic_list())"
    },
    "r": {
     "delete_cmd_postfix": ") ",
     "delete_cmd_prefix": "rm(",
     "library": "var_list.r",
     "varRefreshCmd": "cat(var_dic_list()) "
    }
   },
   "types_to_exclude": [
    "module",
    "function",
    "builtin_function_or_method",
    "instance",
    "_Feature"
   ],
   "window_display": false
  }
 },
 "nbformat": 4,
 "nbformat_minor": 2
}
